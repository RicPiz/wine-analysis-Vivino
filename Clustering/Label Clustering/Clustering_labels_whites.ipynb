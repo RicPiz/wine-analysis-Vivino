{
  "cells": [
    {
      "cell_type": "markdown",
      "metadata": {
        "id": "kV4uaZUnH3PO"
      },
      "source": [
        "### Import necessary libraries."
      ]
    },
    {
      "cell_type": "code",
      "execution_count": null,
      "metadata": {
        "id": "gvS4Qd18fO9W"
      },
      "outputs": [],
      "source": [
        "import numpy as np\n",
        "import pandas as pd\n",
        "import matplotlib.pyplot as plt\n",
        "import matplotlib.patches as patches\n",
        "import matplotlib.image as mpimg\n",
        "import glob\n",
        "from PIL import Image\n",
        "import os, os.path\n",
        "from matplotlib.offsetbox import OffsetImage, AnnotationBbox"
      ]
    },
    {
      "cell_type": "markdown",
      "metadata": {
        "id": "GXv17h6tIFcg"
      },
      "source": [
        "### After running the cell below click the restart runtime button in the output and re-run all imports."
      ]
    },
    {
      "cell_type": "code",
      "execution_count": null,
      "metadata": {
        "colab": {
          "base_uri": "https://localhost:8080/"
        },
        "id": "LIcvP4Q4fPwB",
        "outputId": "84aeed40-7c7a-4ae4-c4a7-320460ca581d"
      },
      "outputs": [
        {
          "name": "stdout",
          "output_type": "stream",
          "text": [
            "Looking in indexes: https://pypi.org/simple, https://us-python.pkg.dev/colab-wheels/public/simple/\n",
            "Requirement already satisfied: easydev in /usr/local/lib/python3.7/dist-packages (0.12.0)\n",
            "Requirement already satisfied: colorlog in /usr/local/lib/python3.7/dist-packages (from easydev) (6.6.0)\n",
            "Requirement already satisfied: colorama in /usr/local/lib/python3.7/dist-packages (from easydev) (0.4.5)\n",
            "Requirement already satisfied: pexpect in /usr/local/lib/python3.7/dist-packages (from easydev) (4.8.0)\n",
            "Requirement already satisfied: ptyprocess>=0.5 in /usr/local/lib/python3.7/dist-packages (from pexpect->easydev) (0.7.0)\n",
            "Looking in indexes: https://pypi.org/simple, https://us-python.pkg.dev/colab-wheels/public/simple/\n",
            "Requirement already satisfied: colormap in /usr/local/lib/python3.7/dist-packages (1.0.4)\n",
            "Looking in indexes: https://pypi.org/simple, https://us-python.pkg.dev/colab-wheels/public/simple/\n",
            "Requirement already satisfied: opencv-python in /usr/local/lib/python3.7/dist-packages (4.1.2.30)\n",
            "Requirement already satisfied: numpy>=1.14.5 in /usr/local/lib/python3.7/dist-packages (from opencv-python) (1.21.6)\n",
            "Looking in indexes: https://pypi.org/simple, https://us-python.pkg.dev/colab-wheels/public/simple/\n",
            "Requirement already satisfied: colorgram.py in /usr/local/lib/python3.7/dist-packages (1.2.0)\n",
            "Requirement already satisfied: pillow>=3.3.1 in /usr/local/lib/python3.7/dist-packages (from colorgram.py) (9.2.0)\n",
            "Looking in indexes: https://pypi.org/simple, https://us-python.pkg.dev/colab-wheels/public/simple/\n",
            "Requirement already satisfied: extcolors in /usr/local/lib/python3.7/dist-packages (1.0.0)\n",
            "Requirement already satisfied: convcolors>=1.0.0 in /usr/local/lib/python3.7/dist-packages (from extcolors) (2.2.0)\n",
            "Requirement already satisfied: Pillow>=8.0.0 in /usr/local/lib/python3.7/dist-packages (from extcolors) (9.2.0)\n"
          ]
        }
      ],
      "source": [
        "!pip install easydev\n",
        "!pip install colormap\n",
        "!pip install opencv-python\n",
        "!pip install colorgram.py\n",
        "!pip install extcolors\n",
        "\n",
        "import cv2\n",
        "import extcolors\n",
        "\n",
        "from colormap import rgb2hex"
      ]
    },
    {
      "cell_type": "code",
      "execution_count": null,
      "metadata": {
        "colab": {
          "base_uri": "https://localhost:8080/"
        },
        "id": "kcWsFb3qfPzH",
        "outputId": "d3639b3b-7fc7-4f3d-ad5a-b5f3afc26b88"
      },
      "outputs": [
        {
          "name": "stdout",
          "output_type": "stream",
          "text": [
            "Mounted at /content/drive\n"
          ]
        }
      ],
      "source": [
        "from google.colab import drive\n",
        "drive.mount('/content/drive')"
      ]
    },
    {
      "cell_type": "code",
      "execution_count": null,
      "metadata": {
        "id": "t2XXOqxvfP3R"
      },
      "outputs": [],
      "source": [
        "path='path/to/folder'"
      ]
    },
    {
      "cell_type": "markdown",
      "metadata": {
        "id": "kgHvT3jUIfSt"
      },
      "source": [
        "### Two ways to collect filenames, the first option makes easier further steps."
      ]
    },
    {
      "cell_type": "code",
      "execution_count": null,
      "metadata": {
        "colab": {
          "base_uri": "https://localhost:8080/",
          "height": 35
        },
        "id": "8drdLPMefP44",
        "outputId": "57817d88-1d75-4948-bf81-8176d9c75e8e"
      },
      "outputs": [
        {
          "data": {
            "application/vnd.google.colaboratory.intrinsic+json": {
              "type": "string"
            },
            "text/plain": [
              "'\\nfor f in os.listdir(input_name):\\n  ext = str(os.path.splitext(f)[0])\\n  filenames.append(ext)\\n'"
            ]
          },
          "execution_count": 5,
          "metadata": {},
          "output_type": "execute_result"
        }
      ],
      "source": [
        "input_name = path + 'images_white_wines_clean'\n",
        "filenames = []\n",
        "\n",
        "# full name string\n",
        "for f in os.listdir(input_name):\n",
        "  ext = str(f)\n",
        "  filenames.append(ext)\n",
        "\n",
        "# clean name\n",
        "'''\n",
        "for f in os.listdir(input_name):\n",
        "  ext = str(os.path.splitext(f)[0])\n",
        "  filenames.append(ext)\n",
        "'''"
      ]
    },
    {
      "cell_type": "markdown",
      "metadata": {
        "id": "m1EWwinvJCkE"
      },
      "source": [
        "### Colors extraction: with tolerance sets up to 0 and limit to 1000 all singles colors are catched."
      ]
    },
    {
      "cell_type": "code",
      "execution_count": null,
      "metadata": {
        "id": "rWpRNFImfP6m"
      },
      "outputs": [],
      "source": [
        "colors = []\n",
        "\n",
        "path='path/to/folder/images_white_wines_clean/'\n",
        "\n",
        "for f in filenames:\n",
        "    colors.append([f, extcolors.extract_from_path(path + f, tolerance = 0, limit = 1000)]) # with clean name add '.png' after f"
      ]
    },
    {
      "cell_type": "markdown",
      "metadata": {
        "id": "dj9E2clJKCbY"
      },
      "source": [
        "### Create a list with all colors labeled by wine name.\n",
        "### With the commented line only colors in a certain range are appended."
      ]
    },
    {
      "cell_type": "code",
      "execution_count": null,
      "metadata": {
        "id": "TsSYZ6NMfc3q"
      },
      "outputs": [],
      "source": [
        "colors_clean = []\n",
        "\n",
        "for i in colors:\n",
        "  for j in i[1][0]:\n",
        "    #if ((j[-1] / colors[0][1][-1]) < 0.12) & ((j[-1] / colors[0][1][-1]) > 0.0012):\n",
        "      colors_clean.append([i[0], j])\n",
        "\n",
        "colors_clean = tuple(colors_clean)"
      ]
    },
    {
      "cell_type": "code",
      "execution_count": null,
      "metadata": {
        "colab": {
          "base_uri": "https://localhost:8080/"
        },
        "id": "lapG__qHfc6u",
        "outputId": "140ae8fd-2e10-4907-f084-ab4582aad341"
      },
      "outputs": [
        {
          "name": "stdout",
          "output_type": "stream",
          "text": [
            "Name:  Chardonnay Alto Adige 2020'.png\n",
            "R:  114\n",
            "G:  84\n",
            "B:  0\n",
            "Occurrences:  2413\n"
          ]
        }
      ],
      "source": [
        "# Name\n",
        "print('Name: ', colors_clean[0][0])\n",
        "# R\n",
        "print('R: ', colors_clean[0][1][0][0])\n",
        "# G\n",
        "print('G: ', colors_clean[0][1][0][1])\n",
        "# B\n",
        "print('B: ', colors_clean[0][1][0][2])\n",
        "# Occurrences\n",
        "print('Occurrences: ', colors_clean[0][1][-1])"
      ]
    },
    {
      "cell_type": "markdown",
      "metadata": {
        "id": "tq1cpBQpK7oT"
      },
      "source": [
        "### Create e dataframe with wine names and the respective color's values"
      ]
    },
    {
      "cell_type": "code",
      "execution_count": null,
      "metadata": {
        "id": "teqVfjuKfc-B"
      },
      "outputs": [],
      "source": [
        "import pandas as pd\n",
        "\n",
        "d = []\n",
        "\n",
        "for i in colors_clean:\n",
        "    d.append(\n",
        "        {\n",
        "        'Name':i[0], \n",
        "        'R':i[1][0][0], \n",
        "        'G':i[1][0][1], \n",
        "        'B':i[1][0][2], \n",
        "        'Occurences':i[1][-1]\n",
        "        }\n",
        "      ) \n",
        "\n",
        "df = pd.DataFrame(d)"
      ]
    },
    {
      "cell_type": "code",
      "execution_count": null,
      "metadata": {
        "colab": {
          "base_uri": "https://localhost:8080/",
          "height": 424
        },
        "id": "vGptSxTafc_v",
        "outputId": "8e0cc318-9b56-47a3-d666-e185959809a8"
      },
      "outputs": [
        {
          "data": {
            "text/html": [
              "\n",
              "  <div id=\"df-0951c798-3f47-4e1e-8119-f1a9b3568e23\">\n",
              "    <div class=\"colab-df-container\">\n",
              "      <div>\n",
              "<style scoped>\n",
              "    .dataframe tbody tr th:only-of-type {\n",
              "        vertical-align: middle;\n",
              "    }\n",
              "\n",
              "    .dataframe tbody tr th {\n",
              "        vertical-align: top;\n",
              "    }\n",
              "\n",
              "    .dataframe thead th {\n",
              "        text-align: right;\n",
              "    }\n",
              "</style>\n",
              "<table border=\"1\" class=\"dataframe\">\n",
              "  <thead>\n",
              "    <tr style=\"text-align: right;\">\n",
              "      <th></th>\n",
              "      <th>Name</th>\n",
              "      <th>R</th>\n",
              "      <th>G</th>\n",
              "      <th>B</th>\n",
              "      <th>Occurences</th>\n",
              "    </tr>\n",
              "  </thead>\n",
              "  <tbody>\n",
              "    <tr>\n",
              "      <th>0</th>\n",
              "      <td>Chardonnay Alto Adige 2020'.png</td>\n",
              "      <td>114</td>\n",
              "      <td>84</td>\n",
              "      <td>0</td>\n",
              "      <td>2413</td>\n",
              "    </tr>\n",
              "    <tr>\n",
              "      <th>1</th>\n",
              "      <td>Chardonnay Alto Adige 2020'.png</td>\n",
              "      <td>209</td>\n",
              "      <td>207</td>\n",
              "      <td>194</td>\n",
              "      <td>1594</td>\n",
              "    </tr>\n",
              "    <tr>\n",
              "      <th>2</th>\n",
              "      <td>Chardonnay Alto Adige 2020'.png</td>\n",
              "      <td>97</td>\n",
              "      <td>72</td>\n",
              "      <td>4</td>\n",
              "      <td>1115</td>\n",
              "    </tr>\n",
              "    <tr>\n",
              "      <th>3</th>\n",
              "      <td>Chardonnay Alto Adige 2020'.png</td>\n",
              "      <td>210</td>\n",
              "      <td>208</td>\n",
              "      <td>195</td>\n",
              "      <td>1065</td>\n",
              "    </tr>\n",
              "    <tr>\n",
              "      <th>4</th>\n",
              "      <td>Chardonnay Alto Adige 2020'.png</td>\n",
              "      <td>205</td>\n",
              "      <td>202</td>\n",
              "      <td>191</td>\n",
              "      <td>1061</td>\n",
              "    </tr>\n",
              "    <tr>\n",
              "      <th>...</th>\n",
              "      <td>...</td>\n",
              "      <td>...</td>\n",
              "      <td>...</td>\n",
              "      <td>...</td>\n",
              "      <td>...</td>\n",
              "    </tr>\n",
              "    <tr>\n",
              "      <th>388273</th>\n",
              "      <td>Paleo Bianco 2018'.png</td>\n",
              "      <td>142</td>\n",
              "      <td>69</td>\n",
              "      <td>67</td>\n",
              "      <td>9</td>\n",
              "    </tr>\n",
              "    <tr>\n",
              "      <th>388274</th>\n",
              "      <td>Paleo Bianco 2018'.png</td>\n",
              "      <td>43</td>\n",
              "      <td>42</td>\n",
              "      <td>41</td>\n",
              "      <td>9</td>\n",
              "    </tr>\n",
              "    <tr>\n",
              "      <th>388275</th>\n",
              "      <td>Paleo Bianco 2018'.png</td>\n",
              "      <td>157</td>\n",
              "      <td>152</td>\n",
              "      <td>149</td>\n",
              "      <td>8</td>\n",
              "    </tr>\n",
              "    <tr>\n",
              "      <th>388276</th>\n",
              "      <td>Paleo Bianco 2018'.png</td>\n",
              "      <td>122</td>\n",
              "      <td>119</td>\n",
              "      <td>138</td>\n",
              "      <td>7</td>\n",
              "    </tr>\n",
              "    <tr>\n",
              "      <th>388277</th>\n",
              "      <td>Paleo Bianco 2018'.png</td>\n",
              "      <td>117</td>\n",
              "      <td>35</td>\n",
              "      <td>32</td>\n",
              "      <td>5</td>\n",
              "    </tr>\n",
              "  </tbody>\n",
              "</table>\n",
              "<p>388278 rows × 5 columns</p>\n",
              "</div>\n",
              "      <button class=\"colab-df-convert\" onclick=\"convertToInteractive('df-0951c798-3f47-4e1e-8119-f1a9b3568e23')\"\n",
              "              title=\"Convert this dataframe to an interactive table.\"\n",
              "              style=\"display:none;\">\n",
              "        \n",
              "  <svg xmlns=\"http://www.w3.org/2000/svg\" height=\"24px\"viewBox=\"0 0 24 24\"\n",
              "       width=\"24px\">\n",
              "    <path d=\"M0 0h24v24H0V0z\" fill=\"none\"/>\n",
              "    <path d=\"M18.56 5.44l.94 2.06.94-2.06 2.06-.94-2.06-.94-.94-2.06-.94 2.06-2.06.94zm-11 1L8.5 8.5l.94-2.06 2.06-.94-2.06-.94L8.5 2.5l-.94 2.06-2.06.94zm10 10l.94 2.06.94-2.06 2.06-.94-2.06-.94-.94-2.06-.94 2.06-2.06.94z\"/><path d=\"M17.41 7.96l-1.37-1.37c-.4-.4-.92-.59-1.43-.59-.52 0-1.04.2-1.43.59L10.3 9.45l-7.72 7.72c-.78.78-.78 2.05 0 2.83L4 21.41c.39.39.9.59 1.41.59.51 0 1.02-.2 1.41-.59l7.78-7.78 2.81-2.81c.8-.78.8-2.07 0-2.86zM5.41 20L4 18.59l7.72-7.72 1.47 1.35L5.41 20z\"/>\n",
              "  </svg>\n",
              "      </button>\n",
              "      \n",
              "  <style>\n",
              "    .colab-df-container {\n",
              "      display:flex;\n",
              "      flex-wrap:wrap;\n",
              "      gap: 12px;\n",
              "    }\n",
              "\n",
              "    .colab-df-convert {\n",
              "      background-color: #E8F0FE;\n",
              "      border: none;\n",
              "      border-radius: 50%;\n",
              "      cursor: pointer;\n",
              "      display: none;\n",
              "      fill: #1967D2;\n",
              "      height: 32px;\n",
              "      padding: 0 0 0 0;\n",
              "      width: 32px;\n",
              "    }\n",
              "\n",
              "    .colab-df-convert:hover {\n",
              "      background-color: #E2EBFA;\n",
              "      box-shadow: 0px 1px 2px rgba(60, 64, 67, 0.3), 0px 1px 3px 1px rgba(60, 64, 67, 0.15);\n",
              "      fill: #174EA6;\n",
              "    }\n",
              "\n",
              "    [theme=dark] .colab-df-convert {\n",
              "      background-color: #3B4455;\n",
              "      fill: #D2E3FC;\n",
              "    }\n",
              "\n",
              "    [theme=dark] .colab-df-convert:hover {\n",
              "      background-color: #434B5C;\n",
              "      box-shadow: 0px 1px 3px 1px rgba(0, 0, 0, 0.15);\n",
              "      filter: drop-shadow(0px 1px 2px rgba(0, 0, 0, 0.3));\n",
              "      fill: #FFFFFF;\n",
              "    }\n",
              "  </style>\n",
              "\n",
              "      <script>\n",
              "        const buttonEl =\n",
              "          document.querySelector('#df-0951c798-3f47-4e1e-8119-f1a9b3568e23 button.colab-df-convert');\n",
              "        buttonEl.style.display =\n",
              "          google.colab.kernel.accessAllowed ? 'block' : 'none';\n",
              "\n",
              "        async function convertToInteractive(key) {\n",
              "          const element = document.querySelector('#df-0951c798-3f47-4e1e-8119-f1a9b3568e23');\n",
              "          const dataTable =\n",
              "            await google.colab.kernel.invokeFunction('convertToInteractive',\n",
              "                                                     [key], {});\n",
              "          if (!dataTable) return;\n",
              "\n",
              "          const docLinkHtml = 'Like what you see? Visit the ' +\n",
              "            '<a target=\"_blank\" href=https://colab.research.google.com/notebooks/data_table.ipynb>data table notebook</a>'\n",
              "            + ' to learn more about interactive tables.';\n",
              "          element.innerHTML = '';\n",
              "          dataTable['output_type'] = 'display_data';\n",
              "          await google.colab.output.renderOutput(dataTable, element);\n",
              "          const docLink = document.createElement('div');\n",
              "          docLink.innerHTML = docLinkHtml;\n",
              "          element.appendChild(docLink);\n",
              "        }\n",
              "      </script>\n",
              "    </div>\n",
              "  </div>\n",
              "  "
            ],
            "text/plain": [
              "                                   Name    R    G    B  Occurences\n",
              "0       Chardonnay Alto Adige 2020'.png  114   84    0        2413\n",
              "1       Chardonnay Alto Adige 2020'.png  209  207  194        1594\n",
              "2       Chardonnay Alto Adige 2020'.png   97   72    4        1115\n",
              "3       Chardonnay Alto Adige 2020'.png  210  208  195        1065\n",
              "4       Chardonnay Alto Adige 2020'.png  205  202  191        1061\n",
              "...                                 ...  ...  ...  ...         ...\n",
              "388273           Paleo Bianco 2018'.png  142   69   67           9\n",
              "388274           Paleo Bianco 2018'.png   43   42   41           9\n",
              "388275           Paleo Bianco 2018'.png  157  152  149           8\n",
              "388276           Paleo Bianco 2018'.png  122  119  138           7\n",
              "388277           Paleo Bianco 2018'.png  117   35   32           5\n",
              "\n",
              "[388278 rows x 5 columns]"
            ]
          },
          "execution_count": 10,
          "metadata": {},
          "output_type": "execute_result"
        }
      ],
      "source": [
        "df"
      ]
    },
    {
      "cell_type": "code",
      "execution_count": null,
      "metadata": {
        "id": "R6S1pSMMfdCb"
      },
      "outputs": [],
      "source": [
        "# only if clean name was used\n",
        "'''\n",
        "def clean_name(x):\n",
        "  x = x.replace('\\'', '')\n",
        "  if x.split()[-1].isdigit():\n",
        "      x = x.replace(x.split()[-1], '')\n",
        "  else:\n",
        "      x = x\n",
        "  return x\n",
        "\n",
        "df['Name'] = df['Name'].apply(clean_name)\n",
        "\n",
        "df.head()\n",
        "'''"
      ]
    },
    {
      "cell_type": "code",
      "execution_count": null,
      "metadata": {
        "colab": {
          "base_uri": "https://localhost:8080/"
        },
        "id": "sjqpuih5ANCq",
        "outputId": "6d0ea682-c259-4ced-e6f3-c33dd0ae8a5c"
      },
      "outputs": [
        {
          "data": {
            "text/plain": [
              "855"
            ]
          },
          "execution_count": 64,
          "metadata": {},
          "output_type": "execute_result"
        }
      ],
      "source": [
        "len(df['Name'].unique())"
      ]
    },
    {
      "cell_type": "markdown",
      "metadata": {
        "id": "ITxkGbXhLQuF"
      },
      "source": [
        "### The process below is used to average multiple RGB colors.\n",
        "### Sum the the squared values of the components of the RGB color. Then when returning the average color, for each color component, find the mean of the sum (of squares) and return its square root.\n",
        "### `sqrt((R1^2+R2^2)/2),sqrt((G1^2+G2^2)/2),sqrt((B1^2+B2^2)/2)`"
      ]
    },
    {
      "cell_type": "code",
      "execution_count": null,
      "metadata": {
        "colab": {
          "base_uri": "https://localhost:8080/",
          "height": 206
        },
        "id": "e1V3Cx9-hlbF",
        "outputId": "9a5b11db-1b15-4534-bea1-3f0b579cce83"
      },
      "outputs": [
        {
          "data": {
            "text/html": [
              "\n",
              "  <div id=\"df-e9205500-89d1-41f6-bb3c-5886ea4718e2\">\n",
              "    <div class=\"colab-df-container\">\n",
              "      <div>\n",
              "<style scoped>\n",
              "    .dataframe tbody tr th:only-of-type {\n",
              "        vertical-align: middle;\n",
              "    }\n",
              "\n",
              "    .dataframe tbody tr th {\n",
              "        vertical-align: top;\n",
              "    }\n",
              "\n",
              "    .dataframe thead th {\n",
              "        text-align: right;\n",
              "    }\n",
              "</style>\n",
              "<table border=\"1\" class=\"dataframe\">\n",
              "  <thead>\n",
              "    <tr style=\"text-align: right;\">\n",
              "      <th></th>\n",
              "      <th>Name</th>\n",
              "      <th>R</th>\n",
              "      <th>G</th>\n",
              "      <th>B</th>\n",
              "      <th>Occurences</th>\n",
              "    </tr>\n",
              "  </thead>\n",
              "  <tbody>\n",
              "    <tr>\n",
              "      <th>0</th>\n",
              "      <td>Chardonnay Alto Adige 2020'.png</td>\n",
              "      <td>12996</td>\n",
              "      <td>7056</td>\n",
              "      <td>0</td>\n",
              "      <td>2413</td>\n",
              "    </tr>\n",
              "    <tr>\n",
              "      <th>1</th>\n",
              "      <td>Chardonnay Alto Adige 2020'.png</td>\n",
              "      <td>43681</td>\n",
              "      <td>42849</td>\n",
              "      <td>37636</td>\n",
              "      <td>1594</td>\n",
              "    </tr>\n",
              "    <tr>\n",
              "      <th>2</th>\n",
              "      <td>Chardonnay Alto Adige 2020'.png</td>\n",
              "      <td>9409</td>\n",
              "      <td>5184</td>\n",
              "      <td>16</td>\n",
              "      <td>1115</td>\n",
              "    </tr>\n",
              "    <tr>\n",
              "      <th>3</th>\n",
              "      <td>Chardonnay Alto Adige 2020'.png</td>\n",
              "      <td>44100</td>\n",
              "      <td>43264</td>\n",
              "      <td>38025</td>\n",
              "      <td>1065</td>\n",
              "    </tr>\n",
              "    <tr>\n",
              "      <th>4</th>\n",
              "      <td>Chardonnay Alto Adige 2020'.png</td>\n",
              "      <td>42025</td>\n",
              "      <td>40804</td>\n",
              "      <td>36481</td>\n",
              "      <td>1061</td>\n",
              "    </tr>\n",
              "  </tbody>\n",
              "</table>\n",
              "</div>\n",
              "      <button class=\"colab-df-convert\" onclick=\"convertToInteractive('df-e9205500-89d1-41f6-bb3c-5886ea4718e2')\"\n",
              "              title=\"Convert this dataframe to an interactive table.\"\n",
              "              style=\"display:none;\">\n",
              "        \n",
              "  <svg xmlns=\"http://www.w3.org/2000/svg\" height=\"24px\"viewBox=\"0 0 24 24\"\n",
              "       width=\"24px\">\n",
              "    <path d=\"M0 0h24v24H0V0z\" fill=\"none\"/>\n",
              "    <path d=\"M18.56 5.44l.94 2.06.94-2.06 2.06-.94-2.06-.94-.94-2.06-.94 2.06-2.06.94zm-11 1L8.5 8.5l.94-2.06 2.06-.94-2.06-.94L8.5 2.5l-.94 2.06-2.06.94zm10 10l.94 2.06.94-2.06 2.06-.94-2.06-.94-.94-2.06-.94 2.06-2.06.94z\"/><path d=\"M17.41 7.96l-1.37-1.37c-.4-.4-.92-.59-1.43-.59-.52 0-1.04.2-1.43.59L10.3 9.45l-7.72 7.72c-.78.78-.78 2.05 0 2.83L4 21.41c.39.39.9.59 1.41.59.51 0 1.02-.2 1.41-.59l7.78-7.78 2.81-2.81c.8-.78.8-2.07 0-2.86zM5.41 20L4 18.59l7.72-7.72 1.47 1.35L5.41 20z\"/>\n",
              "  </svg>\n",
              "      </button>\n",
              "      \n",
              "  <style>\n",
              "    .colab-df-container {\n",
              "      display:flex;\n",
              "      flex-wrap:wrap;\n",
              "      gap: 12px;\n",
              "    }\n",
              "\n",
              "    .colab-df-convert {\n",
              "      background-color: #E8F0FE;\n",
              "      border: none;\n",
              "      border-radius: 50%;\n",
              "      cursor: pointer;\n",
              "      display: none;\n",
              "      fill: #1967D2;\n",
              "      height: 32px;\n",
              "      padding: 0 0 0 0;\n",
              "      width: 32px;\n",
              "    }\n",
              "\n",
              "    .colab-df-convert:hover {\n",
              "      background-color: #E2EBFA;\n",
              "      box-shadow: 0px 1px 2px rgba(60, 64, 67, 0.3), 0px 1px 3px 1px rgba(60, 64, 67, 0.15);\n",
              "      fill: #174EA6;\n",
              "    }\n",
              "\n",
              "    [theme=dark] .colab-df-convert {\n",
              "      background-color: #3B4455;\n",
              "      fill: #D2E3FC;\n",
              "    }\n",
              "\n",
              "    [theme=dark] .colab-df-convert:hover {\n",
              "      background-color: #434B5C;\n",
              "      box-shadow: 0px 1px 3px 1px rgba(0, 0, 0, 0.15);\n",
              "      filter: drop-shadow(0px 1px 2px rgba(0, 0, 0, 0.3));\n",
              "      fill: #FFFFFF;\n",
              "    }\n",
              "  </style>\n",
              "\n",
              "      <script>\n",
              "        const buttonEl =\n",
              "          document.querySelector('#df-e9205500-89d1-41f6-bb3c-5886ea4718e2 button.colab-df-convert');\n",
              "        buttonEl.style.display =\n",
              "          google.colab.kernel.accessAllowed ? 'block' : 'none';\n",
              "\n",
              "        async function convertToInteractive(key) {\n",
              "          const element = document.querySelector('#df-e9205500-89d1-41f6-bb3c-5886ea4718e2');\n",
              "          const dataTable =\n",
              "            await google.colab.kernel.invokeFunction('convertToInteractive',\n",
              "                                                     [key], {});\n",
              "          if (!dataTable) return;\n",
              "\n",
              "          const docLinkHtml = 'Like what you see? Visit the ' +\n",
              "            '<a target=\"_blank\" href=https://colab.research.google.com/notebooks/data_table.ipynb>data table notebook</a>'\n",
              "            + ' to learn more about interactive tables.';\n",
              "          element.innerHTML = '';\n",
              "          dataTable['output_type'] = 'display_data';\n",
              "          await google.colab.output.renderOutput(dataTable, element);\n",
              "          const docLink = document.createElement('div');\n",
              "          docLink.innerHTML = docLinkHtml;\n",
              "          element.appendChild(docLink);\n",
              "        }\n",
              "      </script>\n",
              "    </div>\n",
              "  </div>\n",
              "  "
            ],
            "text/plain": [
              "                              Name      R      G      B  Occurences\n",
              "0  Chardonnay Alto Adige 2020'.png  12996   7056      0        2413\n",
              "1  Chardonnay Alto Adige 2020'.png  43681  42849  37636        1594\n",
              "2  Chardonnay Alto Adige 2020'.png   9409   5184     16        1115\n",
              "3  Chardonnay Alto Adige 2020'.png  44100  43264  38025        1065\n",
              "4  Chardonnay Alto Adige 2020'.png  42025  40804  36481        1061"
            ]
          },
          "execution_count": 11,
          "metadata": {},
          "output_type": "execute_result"
        }
      ],
      "source": [
        "df['R'] = df['R'].pow(2)\n",
        "df['G'] = df['G'].pow(2)\n",
        "df['B'] = df['B'].pow(2)\n",
        "df.head()"
      ]
    },
    {
      "cell_type": "code",
      "execution_count": null,
      "metadata": {
        "colab": {
          "base_uri": "https://localhost:8080/",
          "height": 237
        },
        "id": "szEfMt_Cj4F5",
        "outputId": "aafe4ab2-4c8e-4472-b829-b1f4dc4ad4a2"
      },
      "outputs": [
        {
          "data": {
            "text/html": [
              "\n",
              "  <div id=\"df-58147efb-dc98-4563-8cff-e66cedf6be82\">\n",
              "    <div class=\"colab-df-container\">\n",
              "      <div>\n",
              "<style scoped>\n",
              "    .dataframe tbody tr th:only-of-type {\n",
              "        vertical-align: middle;\n",
              "    }\n",
              "\n",
              "    .dataframe tbody tr th {\n",
              "        vertical-align: top;\n",
              "    }\n",
              "\n",
              "    .dataframe thead th {\n",
              "        text-align: right;\n",
              "    }\n",
              "</style>\n",
              "<table border=\"1\" class=\"dataframe\">\n",
              "  <thead>\n",
              "    <tr style=\"text-align: right;\">\n",
              "      <th></th>\n",
              "      <th>R</th>\n",
              "      <th>G</th>\n",
              "      <th>B</th>\n",
              "    </tr>\n",
              "    <tr>\n",
              "      <th>Name</th>\n",
              "      <th></th>\n",
              "      <th></th>\n",
              "      <th></th>\n",
              "    </tr>\n",
              "  </thead>\n",
              "  <tbody>\n",
              "    <tr>\n",
              "      <th>'Askos' Verdeca 2021'.png</th>\n",
              "      <td>158.464062</td>\n",
              "      <td>151.671911</td>\n",
              "      <td>112.879860</td>\n",
              "    </tr>\n",
              "    <tr>\n",
              "      <th>003 Pecorino 2019'.png</th>\n",
              "      <td>178.381479</td>\n",
              "      <td>162.374293</td>\n",
              "      <td>141.791283</td>\n",
              "    </tr>\n",
              "    <tr>\n",
              "      <th>010 Lugana 2020'.png</th>\n",
              "      <td>140.607295</td>\n",
              "      <td>134.573145</td>\n",
              "      <td>130.236478</td>\n",
              "    </tr>\n",
              "    <tr>\n",
              "      <th>12 e Mezzo Malvasia del Salento 2020'.png</th>\n",
              "      <td>194.687512</td>\n",
              "      <td>188.969268</td>\n",
              "      <td>172.632524</td>\n",
              "    </tr>\n",
              "    <tr>\n",
              "      <th>40 Quarantanni Riserva Bianco 2018'.png</th>\n",
              "      <td>149.290191</td>\n",
              "      <td>147.933839</td>\n",
              "      <td>144.279314</td>\n",
              "    </tr>\n",
              "  </tbody>\n",
              "</table>\n",
              "</div>\n",
              "      <button class=\"colab-df-convert\" onclick=\"convertToInteractive('df-58147efb-dc98-4563-8cff-e66cedf6be82')\"\n",
              "              title=\"Convert this dataframe to an interactive table.\"\n",
              "              style=\"display:none;\">\n",
              "        \n",
              "  <svg xmlns=\"http://www.w3.org/2000/svg\" height=\"24px\"viewBox=\"0 0 24 24\"\n",
              "       width=\"24px\">\n",
              "    <path d=\"M0 0h24v24H0V0z\" fill=\"none\"/>\n",
              "    <path d=\"M18.56 5.44l.94 2.06.94-2.06 2.06-.94-2.06-.94-.94-2.06-.94 2.06-2.06.94zm-11 1L8.5 8.5l.94-2.06 2.06-.94-2.06-.94L8.5 2.5l-.94 2.06-2.06.94zm10 10l.94 2.06.94-2.06 2.06-.94-2.06-.94-.94-2.06-.94 2.06-2.06.94z\"/><path d=\"M17.41 7.96l-1.37-1.37c-.4-.4-.92-.59-1.43-.59-.52 0-1.04.2-1.43.59L10.3 9.45l-7.72 7.72c-.78.78-.78 2.05 0 2.83L4 21.41c.39.39.9.59 1.41.59.51 0 1.02-.2 1.41-.59l7.78-7.78 2.81-2.81c.8-.78.8-2.07 0-2.86zM5.41 20L4 18.59l7.72-7.72 1.47 1.35L5.41 20z\"/>\n",
              "  </svg>\n",
              "      </button>\n",
              "      \n",
              "  <style>\n",
              "    .colab-df-container {\n",
              "      display:flex;\n",
              "      flex-wrap:wrap;\n",
              "      gap: 12px;\n",
              "    }\n",
              "\n",
              "    .colab-df-convert {\n",
              "      background-color: #E8F0FE;\n",
              "      border: none;\n",
              "      border-radius: 50%;\n",
              "      cursor: pointer;\n",
              "      display: none;\n",
              "      fill: #1967D2;\n",
              "      height: 32px;\n",
              "      padding: 0 0 0 0;\n",
              "      width: 32px;\n",
              "    }\n",
              "\n",
              "    .colab-df-convert:hover {\n",
              "      background-color: #E2EBFA;\n",
              "      box-shadow: 0px 1px 2px rgba(60, 64, 67, 0.3), 0px 1px 3px 1px rgba(60, 64, 67, 0.15);\n",
              "      fill: #174EA6;\n",
              "    }\n",
              "\n",
              "    [theme=dark] .colab-df-convert {\n",
              "      background-color: #3B4455;\n",
              "      fill: #D2E3FC;\n",
              "    }\n",
              "\n",
              "    [theme=dark] .colab-df-convert:hover {\n",
              "      background-color: #434B5C;\n",
              "      box-shadow: 0px 1px 3px 1px rgba(0, 0, 0, 0.15);\n",
              "      filter: drop-shadow(0px 1px 2px rgba(0, 0, 0, 0.3));\n",
              "      fill: #FFFFFF;\n",
              "    }\n",
              "  </style>\n",
              "\n",
              "      <script>\n",
              "        const buttonEl =\n",
              "          document.querySelector('#df-58147efb-dc98-4563-8cff-e66cedf6be82 button.colab-df-convert');\n",
              "        buttonEl.style.display =\n",
              "          google.colab.kernel.accessAllowed ? 'block' : 'none';\n",
              "\n",
              "        async function convertToInteractive(key) {\n",
              "          const element = document.querySelector('#df-58147efb-dc98-4563-8cff-e66cedf6be82');\n",
              "          const dataTable =\n",
              "            await google.colab.kernel.invokeFunction('convertToInteractive',\n",
              "                                                     [key], {});\n",
              "          if (!dataTable) return;\n",
              "\n",
              "          const docLinkHtml = 'Like what you see? Visit the ' +\n",
              "            '<a target=\"_blank\" href=https://colab.research.google.com/notebooks/data_table.ipynb>data table notebook</a>'\n",
              "            + ' to learn more about interactive tables.';\n",
              "          element.innerHTML = '';\n",
              "          dataTable['output_type'] = 'display_data';\n",
              "          await google.colab.output.renderOutput(dataTable, element);\n",
              "          const docLink = document.createElement('div');\n",
              "          docLink.innerHTML = docLinkHtml;\n",
              "          element.appendChild(docLink);\n",
              "        }\n",
              "      </script>\n",
              "    </div>\n",
              "  </div>\n",
              "  "
            ],
            "text/plain": [
              "                                                    R           G           B\n",
              "Name                                                                         \n",
              "'Askos' Verdeca 2021'.png                  158.464062  151.671911  112.879860\n",
              "003 Pecorino 2019'.png                     178.381479  162.374293  141.791283\n",
              "010 Lugana 2020'.png                       140.607295  134.573145  130.236478\n",
              "12 e Mezzo Malvasia del Salento 2020'.png  194.687512  188.969268  172.632524\n",
              "40 Quarantanni Riserva Bianco 2018'.png    149.290191  147.933839  144.279314"
            ]
          },
          "execution_count": 12,
          "metadata": {},
          "output_type": "execute_result"
        }
      ],
      "source": [
        "df_new = df.groupby('Name').agg({\n",
        "      'R' : lambda x: np.sqrt(np.mean(x)),\n",
        "      'G' : lambda x: np.sqrt(np.mean(x)),\n",
        "      'B' : lambda x: np.sqrt(np.mean(x))\n",
        "  })\n",
        "\n",
        "df_new.head()"
      ]
    },
    {
      "cell_type": "code",
      "execution_count": null,
      "metadata": {
        "colab": {
          "base_uri": "https://localhost:8080/"
        },
        "id": "XB-9NvAyfdEp",
        "outputId": "923ac914-a1c6-4802-a8a5-0746ac469d3e"
      },
      "outputs": [
        {
          "data": {
            "text/plain": [
              "R    float64\n",
              "G    float64\n",
              "B    float64\n",
              "dtype: object"
            ]
          },
          "execution_count": 17,
          "metadata": {},
          "output_type": "execute_result"
        }
      ],
      "source": [
        "df_new.dtypes"
      ]
    },
    {
      "cell_type": "code",
      "execution_count": null,
      "metadata": {
        "id": "5F08r1l0nygM"
      },
      "outputs": [],
      "source": [
        "df_original = df_new.copy()"
      ]
    },
    {
      "cell_type": "markdown",
      "metadata": {
        "id": "5mjzZGsQNZdn"
      },
      "source": [
        "### Import necessary libraries for clustering.\n",
        "\n",
        "### KMedoids is used in order to spot the most represantive wines of the clusters.\n",
        "\n",
        "### In contrast to the k-means algorithm, k-medoids chooses actual data points as centers (medoids), and thereby allows for greater interpretability of the cluster centers than in k-means, where the center of a cluster is not necessarily one of the input data points (it is the average between the points in the cluster). "
      ]
    },
    {
      "cell_type": "code",
      "execution_count": null,
      "metadata": {
        "colab": {
          "base_uri": "https://localhost:8080/"
        },
        "id": "QOxm8HVqpW0y",
        "outputId": "32ac819a-f94d-44f2-b086-f3a175fe6a2c"
      },
      "outputs": [
        {
          "name": "stdout",
          "output_type": "stream",
          "text": [
            "Looking in indexes: https://pypi.org/simple, https://us-python.pkg.dev/colab-wheels/public/simple/\n",
            "Collecting scikit-learn-extra\n",
            "  Downloading scikit_learn_extra-0.2.0-cp37-cp37m-manylinux2010_x86_64.whl (1.7 MB)\n",
            "\u001b[K     |████████████████████████████████| 1.7 MB 5.0 MB/s \n",
            "\u001b[?25hRequirement already satisfied: scikit-learn>=0.23.0 in /usr/local/lib/python3.7/dist-packages (from scikit-learn-extra) (1.0.2)\n",
            "Requirement already satisfied: numpy>=1.13.3 in /usr/local/lib/python3.7/dist-packages (from scikit-learn-extra) (1.21.6)\n",
            "Requirement already satisfied: scipy>=0.19.1 in /usr/local/lib/python3.7/dist-packages (from scikit-learn-extra) (1.4.1)\n",
            "Requirement already satisfied: threadpoolctl>=2.0.0 in /usr/local/lib/python3.7/dist-packages (from scikit-learn>=0.23.0->scikit-learn-extra) (3.1.0)\n",
            "Requirement already satisfied: joblib>=0.11 in /usr/local/lib/python3.7/dist-packages (from scikit-learn>=0.23.0->scikit-learn-extra) (1.1.0)\n",
            "Installing collected packages: scikit-learn-extra\n",
            "Successfully installed scikit-learn-extra-0.2.0\n"
          ]
        }
      ],
      "source": [
        "!pip install scikit-learn-extra"
      ]
    },
    {
      "cell_type": "code",
      "execution_count": null,
      "metadata": {
        "id": "K5ARyYq9fdHW"
      },
      "outputs": [],
      "source": [
        "import pandas as pd\n",
        "import matplotlib.pyplot as plt\n",
        "import numpy as np\n",
        "import seaborn as sns\n",
        "from sklearn.preprocessing import LabelEncoder\n",
        "from sklearn.preprocessing import StandardScaler\n",
        "from sklearn.preprocessing import MinMaxScaler\n",
        "from sklearn.cluster import KMeans\n",
        "from sklearn_extra.cluster import KMedoids\n",
        "from sklearn.metrics import silhouette_score\n",
        "from yellowbrick.cluster import KElbowVisualizer\n",
        "from yellowbrick.cluster import SilhouetteVisualizer\n",
        "from yellowbrick.cluster import InterclusterDistance"
      ]
    },
    {
      "cell_type": "markdown",
      "metadata": {
        "id": "6eWEfQvAPClf"
      },
      "source": [
        "### Clustering operations."
      ]
    },
    {
      "cell_type": "code",
      "execution_count": null,
      "metadata": {
        "colab": {
          "base_uri": "https://localhost:8080/",
          "height": 424
        },
        "id": "lUjq-eDDhM4V",
        "outputId": "d4f5ecb1-66c8-488a-b39a-efa55ec8efce"
      },
      "outputs": [
        {
          "data": {
            "text/html": [
              "\n",
              "  <div id=\"df-f3e06897-24aa-4cea-9788-7001bb9bed7d\">\n",
              "    <div class=\"colab-df-container\">\n",
              "      <div>\n",
              "<style scoped>\n",
              "    .dataframe tbody tr th:only-of-type {\n",
              "        vertical-align: middle;\n",
              "    }\n",
              "\n",
              "    .dataframe tbody tr th {\n",
              "        vertical-align: top;\n",
              "    }\n",
              "\n",
              "    .dataframe thead th {\n",
              "        text-align: right;\n",
              "    }\n",
              "</style>\n",
              "<table border=\"1\" class=\"dataframe\">\n",
              "  <thead>\n",
              "    <tr style=\"text-align: right;\">\n",
              "      <th></th>\n",
              "      <th>R</th>\n",
              "      <th>G</th>\n",
              "      <th>B</th>\n",
              "    </tr>\n",
              "  </thead>\n",
              "  <tbody>\n",
              "    <tr>\n",
              "      <th>0</th>\n",
              "      <td>0.698722</td>\n",
              "      <td>0.670123</td>\n",
              "      <td>0.527787</td>\n",
              "    </tr>\n",
              "    <tr>\n",
              "      <th>1</th>\n",
              "      <td>0.797111</td>\n",
              "      <td>0.736096</td>\n",
              "      <td>0.708116</td>\n",
              "    </tr>\n",
              "    <tr>\n",
              "      <th>2</th>\n",
              "      <td>0.610513</td>\n",
              "      <td>0.564720</td>\n",
              "      <td>0.636045</td>\n",
              "    </tr>\n",
              "    <tr>\n",
              "      <th>3</th>\n",
              "      <td>0.877660</td>\n",
              "      <td>0.900036</td>\n",
              "      <td>0.900483</td>\n",
              "    </tr>\n",
              "    <tr>\n",
              "      <th>4</th>\n",
              "      <td>0.653405</td>\n",
              "      <td>0.647080</td>\n",
              "      <td>0.723635</td>\n",
              "    </tr>\n",
              "    <tr>\n",
              "      <th>...</th>\n",
              "      <td>...</td>\n",
              "      <td>...</td>\n",
              "      <td>...</td>\n",
              "    </tr>\n",
              "    <tr>\n",
              "      <th>1351</th>\n",
              "      <td>0.619212</td>\n",
              "      <td>0.557920</td>\n",
              "      <td>0.560599</td>\n",
              "    </tr>\n",
              "    <tr>\n",
              "      <th>1352</th>\n",
              "      <td>0.693537</td>\n",
              "      <td>0.559313</td>\n",
              "      <td>0.454340</td>\n",
              "    </tr>\n",
              "    <tr>\n",
              "      <th>1353</th>\n",
              "      <td>0.653511</td>\n",
              "      <td>0.626832</td>\n",
              "      <td>0.603744</td>\n",
              "    </tr>\n",
              "    <tr>\n",
              "      <th>1354</th>\n",
              "      <td>0.814167</td>\n",
              "      <td>0.700300</td>\n",
              "      <td>0.529936</td>\n",
              "    </tr>\n",
              "    <tr>\n",
              "      <th>1355</th>\n",
              "      <td>0.695775</td>\n",
              "      <td>0.583864</td>\n",
              "      <td>0.418999</td>\n",
              "    </tr>\n",
              "  </tbody>\n",
              "</table>\n",
              "<p>1356 rows × 3 columns</p>\n",
              "</div>\n",
              "      <button class=\"colab-df-convert\" onclick=\"convertToInteractive('df-f3e06897-24aa-4cea-9788-7001bb9bed7d')\"\n",
              "              title=\"Convert this dataframe to an interactive table.\"\n",
              "              style=\"display:none;\">\n",
              "        \n",
              "  <svg xmlns=\"http://www.w3.org/2000/svg\" height=\"24px\"viewBox=\"0 0 24 24\"\n",
              "       width=\"24px\">\n",
              "    <path d=\"M0 0h24v24H0V0z\" fill=\"none\"/>\n",
              "    <path d=\"M18.56 5.44l.94 2.06.94-2.06 2.06-.94-2.06-.94-.94-2.06-.94 2.06-2.06.94zm-11 1L8.5 8.5l.94-2.06 2.06-.94-2.06-.94L8.5 2.5l-.94 2.06-2.06.94zm10 10l.94 2.06.94-2.06 2.06-.94-2.06-.94-.94-2.06-.94 2.06-2.06.94z\"/><path d=\"M17.41 7.96l-1.37-1.37c-.4-.4-.92-.59-1.43-.59-.52 0-1.04.2-1.43.59L10.3 9.45l-7.72 7.72c-.78.78-.78 2.05 0 2.83L4 21.41c.39.39.9.59 1.41.59.51 0 1.02-.2 1.41-.59l7.78-7.78 2.81-2.81c.8-.78.8-2.07 0-2.86zM5.41 20L4 18.59l7.72-7.72 1.47 1.35L5.41 20z\"/>\n",
              "  </svg>\n",
              "      </button>\n",
              "      \n",
              "  <style>\n",
              "    .colab-df-container {\n",
              "      display:flex;\n",
              "      flex-wrap:wrap;\n",
              "      gap: 12px;\n",
              "    }\n",
              "\n",
              "    .colab-df-convert {\n",
              "      background-color: #E8F0FE;\n",
              "      border: none;\n",
              "      border-radius: 50%;\n",
              "      cursor: pointer;\n",
              "      display: none;\n",
              "      fill: #1967D2;\n",
              "      height: 32px;\n",
              "      padding: 0 0 0 0;\n",
              "      width: 32px;\n",
              "    }\n",
              "\n",
              "    .colab-df-convert:hover {\n",
              "      background-color: #E2EBFA;\n",
              "      box-shadow: 0px 1px 2px rgba(60, 64, 67, 0.3), 0px 1px 3px 1px rgba(60, 64, 67, 0.15);\n",
              "      fill: #174EA6;\n",
              "    }\n",
              "\n",
              "    [theme=dark] .colab-df-convert {\n",
              "      background-color: #3B4455;\n",
              "      fill: #D2E3FC;\n",
              "    }\n",
              "\n",
              "    [theme=dark] .colab-df-convert:hover {\n",
              "      background-color: #434B5C;\n",
              "      box-shadow: 0px 1px 3px 1px rgba(0, 0, 0, 0.15);\n",
              "      filter: drop-shadow(0px 1px 2px rgba(0, 0, 0, 0.3));\n",
              "      fill: #FFFFFF;\n",
              "    }\n",
              "  </style>\n",
              "\n",
              "      <script>\n",
              "        const buttonEl =\n",
              "          document.querySelector('#df-f3e06897-24aa-4cea-9788-7001bb9bed7d button.colab-df-convert');\n",
              "        buttonEl.style.display =\n",
              "          google.colab.kernel.accessAllowed ? 'block' : 'none';\n",
              "\n",
              "        async function convertToInteractive(key) {\n",
              "          const element = document.querySelector('#df-f3e06897-24aa-4cea-9788-7001bb9bed7d');\n",
              "          const dataTable =\n",
              "            await google.colab.kernel.invokeFunction('convertToInteractive',\n",
              "                                                     [key], {});\n",
              "          if (!dataTable) return;\n",
              "\n",
              "          const docLinkHtml = 'Like what you see? Visit the ' +\n",
              "            '<a target=\"_blank\" href=https://colab.research.google.com/notebooks/data_table.ipynb>data table notebook</a>'\n",
              "            + ' to learn more about interactive tables.';\n",
              "          element.innerHTML = '';\n",
              "          dataTable['output_type'] = 'display_data';\n",
              "          await google.colab.output.renderOutput(dataTable, element);\n",
              "          const docLink = document.createElement('div');\n",
              "          docLink.innerHTML = docLinkHtml;\n",
              "          element.appendChild(docLink);\n",
              "        }\n",
              "      </script>\n",
              "    </div>\n",
              "  </div>\n",
              "  "
            ],
            "text/plain": [
              "             R         G         B\n",
              "0     0.698722  0.670123  0.527787\n",
              "1     0.797111  0.736096  0.708116\n",
              "2     0.610513  0.564720  0.636045\n",
              "3     0.877660  0.900036  0.900483\n",
              "4     0.653405  0.647080  0.723635\n",
              "...        ...       ...       ...\n",
              "1351  0.619212  0.557920  0.560599\n",
              "1352  0.693537  0.559313  0.454340\n",
              "1353  0.653511  0.626832  0.603744\n",
              "1354  0.814167  0.700300  0.529936\n",
              "1355  0.695775  0.583864  0.418999\n",
              "\n",
              "[1356 rows x 3 columns]"
            ]
          },
          "execution_count": 16,
          "metadata": {},
          "output_type": "execute_result"
        }
      ],
      "source": [
        "# Scale the DataFrame using MinMaxScaler\n",
        "\n",
        "scaler = MinMaxScaler()\n",
        "scaler.fit(df_new)\n",
        "scaled_df = pd.DataFrame(scaler.transform(df_new),columns= df_new.columns )\n",
        "scaled_df"
      ]
    },
    {
      "cell_type": "code",
      "execution_count": null,
      "metadata": {
        "colab": {
          "base_uri": "https://localhost:8080/",
          "height": 412
        },
        "id": "BuwuLx8UhM7U",
        "outputId": "70910e3a-aa07-40b8-c7a3-f3e6a2e91832"
      },
      "outputs": [
        {
          "name": "stdout",
          "output_type": "stream",
          "text": [
            "Elbow Method to determine the number of clusters to be formed:\n"
          ]
        },
        {
          "data": {
            "image/png": "[encoded data removed]",
            "text/plain": [
              "<Figure size 576x396 with 2 Axes>"
            ]
          },
          "metadata": {},
          "output_type": "display_data"
        },
        {
          "data": {
            "text/plain": [
              "<matplotlib.axes._subplots.AxesSubplot at 0x7f53d61f5fd0>"
            ]
          },
          "execution_count": 22,
          "metadata": {},
          "output_type": "execute_result"
        }
      ],
      "source": [
        "# Use the elbow method to determine the optimal number of clusters\n",
        "\n",
        "print('Elbow Method to determine the number of clusters to be formed:')\n",
        "Elbow = KElbowVisualizer(KMedoids(), k=50)\n",
        "Elbow.fit(scaled_df)\n",
        "Elbow.show()"
      ]
    },
    {
      "cell_type": "code",
      "execution_count": null,
      "metadata": {
        "colab": {
          "base_uri": "https://localhost:8080/",
          "height": 412
        },
        "id": "3XPBzFLuhM-h",
        "outputId": "6d24466f-3629-40fc-eccd-0e2b959c0f9a"
      },
      "outputs": [
        {
          "name": "stdout",
          "output_type": "stream",
          "text": [
            "Silhouette Coefficient to determine the number of clusters to be formed:\n"
          ]
        },
        {
          "data": {
            "image/png": "[encoded data removed]",
            "text/plain": [
              "<Figure size 576x396 with 1 Axes>"
            ]
          },
          "metadata": {},
          "output_type": "display_data"
        },
        {
          "data": {
            "text/plain": [
              "<matplotlib.axes._subplots.AxesSubplot at 0x7ff016db5f90>"
            ]
          },
          "execution_count": 126,
          "metadata": {},
          "output_type": "execute_result"
        }
      ],
      "source": [
        "# Use the silhouette coefficient to determine the optimal number of clusters\n",
        "\n",
        "print('Silhouette Coefficient to determine the number of clusters to be formed:')\n",
        "visualizer = SilhouetteVisualizer(KMeans(n_clusters=11), colors='yellowbrick')\n",
        "visualizer.fit(scaled_df)\n",
        "visualizer.show()"
      ]
    },
    {
      "cell_type": "code",
      "execution_count": null,
      "metadata": {
        "colab": {
          "base_uri": "https://localhost:8080/",
          "height": 402
        },
        "id": "MZUEV2BmhNA6",
        "outputId": "bad56c56-71db-4211-f59c-d45fb4dcfc5c"
      },
      "outputs": [
        {
          "name": "stdout",
          "output_type": "stream",
          "text": [
            "Intercluster Distance to visualize distance between clusters:\n"
          ]
        },
        {
          "data": {
            "image/png": "[encoded data removed]",
            "text/plain": [
              "<Figure size 576x396 with 2 Axes>"
            ]
          },
          "metadata": {},
          "output_type": "display_data"
        },
        {
          "data": {
            "text/plain": [
              "<matplotlib.axes._subplots.AxesSubplot at 0x7ff021b7dad0>"
            ]
          },
          "execution_count": 92,
          "metadata": {},
          "output_type": "execute_result"
        }
      ],
      "source": [
        "# Visualize the distance between clusters\n",
        "\n",
        "print('Intercluster Distance to visualize distance between clusters:')\n",
        "inter_dis = InterclusterDistance(KMeans(n_clusters=11))\n",
        "inter_dis.fit(scaled_df)\n",
        "inter_dis.show()"
      ]
    },
    {
      "cell_type": "code",
      "execution_count": null,
      "metadata": {
        "colab": {
          "base_uri": "https://localhost:8080/"
        },
        "id": "jq_G7V7RhNF_",
        "outputId": "ecd99058-f041-4304-89ce-c4cfd57ec2d8"
      },
      "outputs": [
        {
          "name": "stdout",
          "output_type": "stream",
          "text": [
            "Cluster k:  8\n",
            "Silhouette 0.28543973041688625\n",
            "Cluster k:  9\n",
            "Silhouette 0.26802162943849056\n",
            "Cluster k:  10\n",
            "Silhouette 0.24714589760934566\n",
            "Cluster k:  11\n",
            "Silhouette 0.2557349161177897\n",
            "Cluster k:  12\n",
            "Silhouette 0.27060786766135264\n",
            "Cluster k:  13\n",
            "Silhouette 0.27552953571373245\n",
            "Cluster k:  14\n",
            "Silhouette 0.2708978749851258\n",
            "Cluster k:  15\n",
            "Silhouette 0.26950686709632854\n",
            "Cluster k:  16\n",
            "Silhouette 0.26520300565734856\n"
          ]
        }
      ],
      "source": [
        "# Perform k-medoids clustering for various values of k and calculate the silhouette score for each\n",
        "\n",
        "for i in range(8, 17, 1):\n",
        "    kmedoids = KMedoids(n_clusters=i, method='pam', init='build', max_iter=500)\n",
        "    clusters = kmedoids.fit_predict(scaled_df)\n",
        "    print('Cluster k: ', i)\n",
        "    print('Silhouette %s' % silhouette_score(scaled_df, kmedoids.labels_))"
      ]
    },
    {
      "cell_type": "code",
      "execution_count": null,
      "metadata": {
        "id": "J1EwRDFIhNJN"
      },
      "outputs": [],
      "source": [
        "# Perform k-medoids clustering with the optimal number of clusters\n",
        "\n",
        "kmedoids = KMedoids(n_clusters=8, method='pam', init='build', max_iter=500)\n",
        "clusters = kmedoids.fit_predict(scaled_df)\n",
        "df_original[\"Clusters\"]= clusters"
      ]
    },
    {
      "cell_type": "code",
      "execution_count": null,
      "metadata": {
        "colab": {
          "base_uri": "https://localhost:8080/"
        },
        "id": "RtSz9kEnhNMw",
        "outputId": "a1715366-ab97-4b2e-f946-c70e5cb9f175"
      },
      "outputs": [
        {
          "name": "stdout",
          "output_type": "stream",
          "text": [
            "Silhouette 0.28543973041688625\n"
          ]
        }
      ],
      "source": [
        "# Print the silhouette score of the final clustering\n",
        "\n",
        "print('Silhouette %s' % silhouette_score(scaled_df, kmedoids.labels_))"
      ]
    },
    {
      "cell_type": "code",
      "execution_count": null,
      "metadata": {
        "colab": {
          "base_uri": "https://localhost:8080/"
        },
        "id": "gjvzWlr-hNO4",
        "outputId": "1c746646-a64a-43f6-c4e3-1e4b8f335465"
      },
      "outputs": [
        {
          "name": "stdout",
          "output_type": "stream",
          "text": [
            "Cluster 0: 233 (0.17)\n",
            "Cluster 1: 186 (0.14)\n",
            "Cluster 2: 196 (0.14)\n",
            "Cluster 3: 148 (0.11)\n",
            "Cluster 4: 83 (0.06)\n",
            "Cluster 5: 150 (0.11)\n",
            "Cluster 6: 167 (0.12)\n",
            "Cluster 7: 193 (0.14)\n"
          ]
        }
      ],
      "source": [
        "# Print the size of each cluster\n",
        "\n",
        "hist, bins = np.histogram(kmedoids.labels_, bins=range(0, len(set(kmedoids.labels_)) + 1))\n",
        "sizes = dict(zip(bins, hist))\n",
        "\n",
        "for id_cluster, size in sizes.items():\n",
        "    print('Cluster %d: %d (%.2f)' % (id_cluster, size, size/len(scaled_df)))"
      ]
    },
    {
      "cell_type": "code",
      "execution_count": null,
      "metadata": {
        "colab": {
          "base_uri": "https://localhost:8080/",
          "height": 376
        },
        "id": "oyMsJLcvhNQ-",
        "outputId": "c019f078-4129-4583-8d65-f48794bc559c"
      },
      "outputs": [
        {
          "data": {
            "image/png": "[encoded data removed]",
            "text/plain": [
              "<Figure size 576x396 with 1 Axes>"
            ]
          },
          "metadata": {},
          "output_type": "display_data"
        }
      ],
      "source": [
        "#Plotting countplot of clusters\n",
        "pl = sns.countplot(x=df_original[\"Clusters\"])\n",
        "pl.set_title(\"Distribution Of The Clusters\")\n",
        "plt.show()"
      ]
    },
    {
      "cell_type": "code",
      "execution_count": null,
      "metadata": {
        "colab": {
          "base_uri": "https://localhost:8080/",
          "height": 237
        },
        "id": "vhWhxWxXhNTs",
        "outputId": "e1b83371-eeec-4de4-aa09-8be8b8e10f69"
      },
      "outputs": [
        {
          "data": {
            "text/html": [
              "\n",
              "  <div id=\"df-4155d050-a9a8-49b9-bf53-88a14c43398a\">\n",
              "    <div class=\"colab-df-container\">\n",
              "      <div>\n",
              "<style scoped>\n",
              "    .dataframe tbody tr th:only-of-type {\n",
              "        vertical-align: middle;\n",
              "    }\n",
              "\n",
              "    .dataframe tbody tr th {\n",
              "        vertical-align: top;\n",
              "    }\n",
              "\n",
              "    .dataframe thead th {\n",
              "        text-align: right;\n",
              "    }\n",
              "</style>\n",
              "<table border=\"1\" class=\"dataframe\">\n",
              "  <thead>\n",
              "    <tr style=\"text-align: right;\">\n",
              "      <th></th>\n",
              "      <th>R</th>\n",
              "      <th>G</th>\n",
              "      <th>B</th>\n",
              "      <th>Clusters</th>\n",
              "    </tr>\n",
              "    <tr>\n",
              "      <th>Name</th>\n",
              "      <th></th>\n",
              "      <th></th>\n",
              "      <th></th>\n",
              "      <th></th>\n",
              "    </tr>\n",
              "  </thead>\n",
              "  <tbody>\n",
              "    <tr>\n",
              "      <th>'Askos' Verdeca 2021'.png</th>\n",
              "      <td>158.464062</td>\n",
              "      <td>151.671911</td>\n",
              "      <td>112.879860</td>\n",
              "      <td>3</td>\n",
              "    </tr>\n",
              "    <tr>\n",
              "      <th>003 Pecorino 2019'.png</th>\n",
              "      <td>178.381479</td>\n",
              "      <td>162.374293</td>\n",
              "      <td>141.791283</td>\n",
              "      <td>2</td>\n",
              "    </tr>\n",
              "    <tr>\n",
              "      <th>010 Lugana 2020'.png</th>\n",
              "      <td>140.607295</td>\n",
              "      <td>134.573145</td>\n",
              "      <td>130.236478</td>\n",
              "      <td>6</td>\n",
              "    </tr>\n",
              "    <tr>\n",
              "      <th>12 e Mezzo Malvasia del Salento 2020'.png</th>\n",
              "      <td>194.687512</td>\n",
              "      <td>188.969268</td>\n",
              "      <td>172.632524</td>\n",
              "      <td>4</td>\n",
              "    </tr>\n",
              "    <tr>\n",
              "      <th>40 Quarantanni Riserva Bianco 2018'.png</th>\n",
              "      <td>149.290191</td>\n",
              "      <td>147.933839</td>\n",
              "      <td>144.279314</td>\n",
              "      <td>6</td>\n",
              "    </tr>\n",
              "  </tbody>\n",
              "</table>\n",
              "</div>\n",
              "      <button class=\"colab-df-convert\" onclick=\"convertToInteractive('df-4155d050-a9a8-49b9-bf53-88a14c43398a')\"\n",
              "              title=\"Convert this dataframe to an interactive table.\"\n",
              "              style=\"display:none;\">\n",
              "        \n",
              "  <svg xmlns=\"http://www.w3.org/2000/svg\" height=\"24px\"viewBox=\"0 0 24 24\"\n",
              "       width=\"24px\">\n",
              "    <path d=\"M0 0h24v24H0V0z\" fill=\"none\"/>\n",
              "    <path d=\"M18.56 5.44l.94 2.06.94-2.06 2.06-.94-2.06-.94-.94-2.06-.94 2.06-2.06.94zm-11 1L8.5 8.5l.94-2.06 2.06-.94-2.06-.94L8.5 2.5l-.94 2.06-2.06.94zm10 10l.94 2.06.94-2.06 2.06-.94-2.06-.94-.94-2.06-.94 2.06-2.06.94z\"/><path d=\"M17.41 7.96l-1.37-1.37c-.4-.4-.92-.59-1.43-.59-.52 0-1.04.2-1.43.59L10.3 9.45l-7.72 7.72c-.78.78-.78 2.05 0 2.83L4 21.41c.39.39.9.59 1.41.59.51 0 1.02-.2 1.41-.59l7.78-7.78 2.81-2.81c.8-.78.8-2.07 0-2.86zM5.41 20L4 18.59l7.72-7.72 1.47 1.35L5.41 20z\"/>\n",
              "  </svg>\n",
              "      </button>\n",
              "      \n",
              "  <style>\n",
              "    .colab-df-container {\n",
              "      display:flex;\n",
              "      flex-wrap:wrap;\n",
              "      gap: 12px;\n",
              "    }\n",
              "\n",
              "    .colab-df-convert {\n",
              "      background-color: #E8F0FE;\n",
              "      border: none;\n",
              "      border-radius: 50%;\n",
              "      cursor: pointer;\n",
              "      display: none;\n",
              "      fill: #1967D2;\n",
              "      height: 32px;\n",
              "      padding: 0 0 0 0;\n",
              "      width: 32px;\n",
              "    }\n",
              "\n",
              "    .colab-df-convert:hover {\n",
              "      background-color: #E2EBFA;\n",
              "      box-shadow: 0px 1px 2px rgba(60, 64, 67, 0.3), 0px 1px 3px 1px rgba(60, 64, 67, 0.15);\n",
              "      fill: #174EA6;\n",
              "    }\n",
              "\n",
              "    [theme=dark] .colab-df-convert {\n",
              "      background-color: #3B4455;\n",
              "      fill: #D2E3FC;\n",
              "    }\n",
              "\n",
              "    [theme=dark] .colab-df-convert:hover {\n",
              "      background-color: #434B5C;\n",
              "      box-shadow: 0px 1px 3px 1px rgba(0, 0, 0, 0.15);\n",
              "      filter: drop-shadow(0px 1px 2px rgba(0, 0, 0, 0.3));\n",
              "      fill: #FFFFFF;\n",
              "    }\n",
              "  </style>\n",
              "\n",
              "      <script>\n",
              "        const buttonEl =\n",
              "          document.querySelector('#df-4155d050-a9a8-49b9-bf53-88a14c43398a button.colab-df-convert');\n",
              "        buttonEl.style.display =\n",
              "          google.colab.kernel.accessAllowed ? 'block' : 'none';\n",
              "\n",
              "        async function convertToInteractive(key) {\n",
              "          const element = document.querySelector('#df-4155d050-a9a8-49b9-bf53-88a14c43398a');\n",
              "          const dataTable =\n",
              "            await google.colab.kernel.invokeFunction('convertToInteractive',\n",
              "                                                     [key], {});\n",
              "          if (!dataTable) return;\n",
              "\n",
              "          const docLinkHtml = 'Like what you see? Visit the ' +\n",
              "            '<a target=\"_blank\" href=https://colab.research.google.com/notebooks/data_table.ipynb>data table notebook</a>'\n",
              "            + ' to learn more about interactive tables.';\n",
              "          element.innerHTML = '';\n",
              "          dataTable['output_type'] = 'display_data';\n",
              "          await google.colab.output.renderOutput(dataTable, element);\n",
              "          const docLink = document.createElement('div');\n",
              "          docLink.innerHTML = docLinkHtml;\n",
              "          element.appendChild(docLink);\n",
              "        }\n",
              "      </script>\n",
              "    </div>\n",
              "  </div>\n",
              "  "
            ],
            "text/plain": [
              "                                                    R           G           B  \\\n",
              "Name                                                                            \n",
              "'Askos' Verdeca 2021'.png                  158.464062  151.671911  112.879860   \n",
              "003 Pecorino 2019'.png                     178.381479  162.374293  141.791283   \n",
              "010 Lugana 2020'.png                       140.607295  134.573145  130.236478   \n",
              "12 e Mezzo Malvasia del Salento 2020'.png  194.687512  188.969268  172.632524   \n",
              "40 Quarantanni Riserva Bianco 2018'.png    149.290191  147.933839  144.279314   \n",
              "\n",
              "                                           Clusters  \n",
              "Name                                                 \n",
              "'Askos' Verdeca 2021'.png                         3  \n",
              "003 Pecorino 2019'.png                            2  \n",
              "010 Lugana 2020'.png                              6  \n",
              "12 e Mezzo Malvasia del Salento 2020'.png         4  \n",
              "40 Quarantanni Riserva Bianco 2018'.png           6  "
            ]
          },
          "execution_count": 20,
          "metadata": {},
          "output_type": "execute_result"
        }
      ],
      "source": [
        "df_original.head()"
      ]
    },
    {
      "cell_type": "code",
      "execution_count": null,
      "metadata": {
        "colab": {
          "base_uri": "https://localhost:8080/",
          "height": 455
        },
        "id": "mfIOLsJs1afY",
        "outputId": "d31d1461-521c-42b2-e443-6f20760961a5"
      },
      "outputs": [
        {
          "data": {
            "text/html": [
              "\n",
              "  <div id=\"df-07bf9587-edd1-4d43-816f-9ee68003cfe5\">\n",
              "    <div class=\"colab-df-container\">\n",
              "      <div>\n",
              "<style scoped>\n",
              "    .dataframe tbody tr th:only-of-type {\n",
              "        vertical-align: middle;\n",
              "    }\n",
              "\n",
              "    .dataframe tbody tr th {\n",
              "        vertical-align: top;\n",
              "    }\n",
              "\n",
              "    .dataframe thead th {\n",
              "        text-align: right;\n",
              "    }\n",
              "</style>\n",
              "<table border=\"1\" class=\"dataframe\">\n",
              "  <thead>\n",
              "    <tr style=\"text-align: right;\">\n",
              "      <th></th>\n",
              "      <th>R</th>\n",
              "      <th>G</th>\n",
              "      <th>B</th>\n",
              "      <th>Clusters</th>\n",
              "    </tr>\n",
              "    <tr>\n",
              "      <th>Name</th>\n",
              "      <th></th>\n",
              "      <th></th>\n",
              "      <th></th>\n",
              "      <th></th>\n",
              "    </tr>\n",
              "  </thead>\n",
              "  <tbody>\n",
              "    <tr>\n",
              "      <th>Cala Reale Vermentino di Sardegna 2020'.png</th>\n",
              "      <td>126.909355</td>\n",
              "      <td>143.922106</td>\n",
              "      <td>114.483409</td>\n",
              "      <td>0</td>\n",
              "    </tr>\n",
              "    <tr>\n",
              "      <th>Afix Riesling 2018'.png</th>\n",
              "      <td>127.558522</td>\n",
              "      <td>141.091946</td>\n",
              "      <td>117.571639</td>\n",
              "      <td>0</td>\n",
              "    </tr>\n",
              "    <tr>\n",
              "      <th>Pfefferer 2021'.png</th>\n",
              "      <td>127.785712</td>\n",
              "      <td>152.852075</td>\n",
              "      <td>111.693769</td>\n",
              "      <td>0</td>\n",
              "    </tr>\n",
              "    <tr>\n",
              "      <th>Sodevo Pinot Grigio 2019'.png</th>\n",
              "      <td>131.531576</td>\n",
              "      <td>133.591610</td>\n",
              "      <td>119.134028</td>\n",
              "      <td>0</td>\n",
              "    </tr>\n",
              "    <tr>\n",
              "      <th>Praepositus Sylvaner 2019'.png</th>\n",
              "      <td>134.548457</td>\n",
              "      <td>131.276696</td>\n",
              "      <td>118.635965</td>\n",
              "      <td>0</td>\n",
              "    </tr>\n",
              "    <tr>\n",
              "      <th>...</th>\n",
              "      <td>...</td>\n",
              "      <td>...</td>\n",
              "      <td>...</td>\n",
              "      <td>...</td>\n",
              "    </tr>\n",
              "    <tr>\n",
              "      <th>Criseo 2019'.png</th>\n",
              "      <td>167.883853</td>\n",
              "      <td>131.938711</td>\n",
              "      <td>72.357961</td>\n",
              "      <td>7</td>\n",
              "    </tr>\n",
              "    <tr>\n",
              "      <th>Moscadello di Montalcino 2019'.png</th>\n",
              "      <td>169.227692</td>\n",
              "      <td>133.429601</td>\n",
              "      <td>80.935513</td>\n",
              "      <td>7</td>\n",
              "    </tr>\n",
              "    <tr>\n",
              "      <th>Arboreus Umbria Bianco 2015'.png</th>\n",
              "      <td>174.553288</td>\n",
              "      <td>131.441478</td>\n",
              "      <td>70.777599</td>\n",
              "      <td>7</td>\n",
              "    </tr>\n",
              "    <tr>\n",
              "      <th>Marani 2019'.png</th>\n",
              "      <td>176.940723</td>\n",
              "      <td>120.801003</td>\n",
              "      <td>98.165846</td>\n",
              "      <td>7</td>\n",
              "    </tr>\n",
              "    <tr>\n",
              "      <th>Carat 2017'.png</th>\n",
              "      <td>184.673066</td>\n",
              "      <td>122.313916</td>\n",
              "      <td>90.949760</td>\n",
              "      <td>7</td>\n",
              "    </tr>\n",
              "  </tbody>\n",
              "</table>\n",
              "<p>1356 rows × 4 columns</p>\n",
              "</div>\n",
              "      <button class=\"colab-df-convert\" onclick=\"convertToInteractive('df-07bf9587-edd1-4d43-816f-9ee68003cfe5')\"\n",
              "              title=\"Convert this dataframe to an interactive table.\"\n",
              "              style=\"display:none;\">\n",
              "        \n",
              "  <svg xmlns=\"http://www.w3.org/2000/svg\" height=\"24px\"viewBox=\"0 0 24 24\"\n",
              "       width=\"24px\">\n",
              "    <path d=\"M0 0h24v24H0V0z\" fill=\"none\"/>\n",
              "    <path d=\"M18.56 5.44l.94 2.06.94-2.06 2.06-.94-2.06-.94-.94-2.06-.94 2.06-2.06.94zm-11 1L8.5 8.5l.94-2.06 2.06-.94-2.06-.94L8.5 2.5l-.94 2.06-2.06.94zm10 10l.94 2.06.94-2.06 2.06-.94-2.06-.94-.94-2.06-.94 2.06-2.06.94z\"/><path d=\"M17.41 7.96l-1.37-1.37c-.4-.4-.92-.59-1.43-.59-.52 0-1.04.2-1.43.59L10.3 9.45l-7.72 7.72c-.78.78-.78 2.05 0 2.83L4 21.41c.39.39.9.59 1.41.59.51 0 1.02-.2 1.41-.59l7.78-7.78 2.81-2.81c.8-.78.8-2.07 0-2.86zM5.41 20L4 18.59l7.72-7.72 1.47 1.35L5.41 20z\"/>\n",
              "  </svg>\n",
              "      </button>\n",
              "      \n",
              "  <style>\n",
              "    .colab-df-container {\n",
              "      display:flex;\n",
              "      flex-wrap:wrap;\n",
              "      gap: 12px;\n",
              "    }\n",
              "\n",
              "    .colab-df-convert {\n",
              "      background-color: #E8F0FE;\n",
              "      border: none;\n",
              "      border-radius: 50%;\n",
              "      cursor: pointer;\n",
              "      display: none;\n",
              "      fill: #1967D2;\n",
              "      height: 32px;\n",
              "      padding: 0 0 0 0;\n",
              "      width: 32px;\n",
              "    }\n",
              "\n",
              "    .colab-df-convert:hover {\n",
              "      background-color: #E2EBFA;\n",
              "      box-shadow: 0px 1px 2px rgba(60, 64, 67, 0.3), 0px 1px 3px 1px rgba(60, 64, 67, 0.15);\n",
              "      fill: #174EA6;\n",
              "    }\n",
              "\n",
              "    [theme=dark] .colab-df-convert {\n",
              "      background-color: #3B4455;\n",
              "      fill: #D2E3FC;\n",
              "    }\n",
              "\n",
              "    [theme=dark] .colab-df-convert:hover {\n",
              "      background-color: #434B5C;\n",
              "      box-shadow: 0px 1px 3px 1px rgba(0, 0, 0, 0.15);\n",
              "      filter: drop-shadow(0px 1px 2px rgba(0, 0, 0, 0.3));\n",
              "      fill: #FFFFFF;\n",
              "    }\n",
              "  </style>\n",
              "\n",
              "      <script>\n",
              "        const buttonEl =\n",
              "          document.querySelector('#df-07bf9587-edd1-4d43-816f-9ee68003cfe5 button.colab-df-convert');\n",
              "        buttonEl.style.display =\n",
              "          google.colab.kernel.accessAllowed ? 'block' : 'none';\n",
              "\n",
              "        async function convertToInteractive(key) {\n",
              "          const element = document.querySelector('#df-07bf9587-edd1-4d43-816f-9ee68003cfe5');\n",
              "          const dataTable =\n",
              "            await google.colab.kernel.invokeFunction('convertToInteractive',\n",
              "                                                     [key], {});\n",
              "          if (!dataTable) return;\n",
              "\n",
              "          const docLinkHtml = 'Like what you see? Visit the ' +\n",
              "            '<a target=\"_blank\" href=https://colab.research.google.com/notebooks/data_table.ipynb>data table notebook</a>'\n",
              "            + ' to learn more about interactive tables.';\n",
              "          element.innerHTML = '';\n",
              "          dataTable['output_type'] = 'display_data';\n",
              "          await google.colab.output.renderOutput(dataTable, element);\n",
              "          const docLink = document.createElement('div');\n",
              "          docLink.innerHTML = docLinkHtml;\n",
              "          element.appendChild(docLink);\n",
              "        }\n",
              "      </script>\n",
              "    </div>\n",
              "  </div>\n",
              "  "
            ],
            "text/plain": [
              "                                                      R           G  \\\n",
              "Name                                                                  \n",
              "Cala Reale Vermentino di Sardegna 2020'.png  126.909355  143.922106   \n",
              "Afix Riesling 2018'.png                      127.558522  141.091946   \n",
              "Pfefferer 2021'.png                          127.785712  152.852075   \n",
              "Sodevo Pinot Grigio 2019'.png                131.531576  133.591610   \n",
              "Praepositus Sylvaner 2019'.png               134.548457  131.276696   \n",
              "...                                                 ...         ...   \n",
              "Criseo 2019'.png                             167.883853  131.938711   \n",
              "Moscadello di Montalcino 2019'.png           169.227692  133.429601   \n",
              "Arboreus Umbria Bianco 2015'.png             174.553288  131.441478   \n",
              "Marani 2019'.png                             176.940723  120.801003   \n",
              "Carat 2017'.png                              184.673066  122.313916   \n",
              "\n",
              "                                                      B  Clusters  \n",
              "Name                                                               \n",
              "Cala Reale Vermentino di Sardegna 2020'.png  114.483409         0  \n",
              "Afix Riesling 2018'.png                      117.571639         0  \n",
              "Pfefferer 2021'.png                          111.693769         0  \n",
              "Sodevo Pinot Grigio 2019'.png                119.134028         0  \n",
              "Praepositus Sylvaner 2019'.png               118.635965         0  \n",
              "...                                                 ...       ...  \n",
              "Criseo 2019'.png                              72.357961         7  \n",
              "Moscadello di Montalcino 2019'.png            80.935513         7  \n",
              "Arboreus Umbria Bianco 2015'.png              70.777599         7  \n",
              "Marani 2019'.png                              98.165846         7  \n",
              "Carat 2017'.png                               90.949760         7  \n",
              "\n",
              "[1356 rows x 4 columns]"
            ]
          },
          "execution_count": 21,
          "metadata": {},
          "output_type": "execute_result"
        }
      ],
      "source": [
        "# Order rows on cluester labels\n",
        "\n",
        "df_sort = df_original.sort_values(by=['Clusters','R','G', 'B'], ascending=[True, True, True, True])\n",
        "df_sort"
      ]
    },
    {
      "cell_type": "code",
      "execution_count": null,
      "metadata": {
        "colab": {
          "base_uri": "https://localhost:8080/",
          "height": 332
        },
        "id": "ptX0IiPK5KTo",
        "outputId": "0bc4e137-8d46-4554-b99b-931149a4ccf4"
      },
      "outputs": [
        {
          "data": {
            "text/html": [
              "\n",
              "  <div id=\"df-361b8a7e-d6b2-4643-8b5a-b60d1d39d5ae\">\n",
              "    <div class=\"colab-df-container\">\n",
              "      <div>\n",
              "<style scoped>\n",
              "    .dataframe tbody tr th:only-of-type {\n",
              "        vertical-align: middle;\n",
              "    }\n",
              "\n",
              "    .dataframe tbody tr th {\n",
              "        vertical-align: top;\n",
              "    }\n",
              "\n",
              "    .dataframe thead th {\n",
              "        text-align: right;\n",
              "    }\n",
              "</style>\n",
              "<table border=\"1\" class=\"dataframe\">\n",
              "  <thead>\n",
              "    <tr style=\"text-align: right;\">\n",
              "      <th></th>\n",
              "      <th>max_R</th>\n",
              "      <th>min_R</th>\n",
              "      <th>avg_R</th>\n",
              "      <th>max_G</th>\n",
              "      <th>min_G</th>\n",
              "      <th>avg_G</th>\n",
              "      <th>max_B</th>\n",
              "      <th>min_B</th>\n",
              "      <th>avg_B</th>\n",
              "    </tr>\n",
              "    <tr>\n",
              "      <th>Clusters</th>\n",
              "      <th></th>\n",
              "      <th></th>\n",
              "      <th></th>\n",
              "      <th></th>\n",
              "      <th></th>\n",
              "      <th></th>\n",
              "      <th></th>\n",
              "      <th></th>\n",
              "      <th></th>\n",
              "    </tr>\n",
              "  </thead>\n",
              "  <tbody>\n",
              "    <tr>\n",
              "      <th>0</th>\n",
              "      <td>167.562716</td>\n",
              "      <td>126.909355</td>\n",
              "      <td>150.711533</td>\n",
              "      <td>155.261859</td>\n",
              "      <td>127.620626</td>\n",
              "      <td>140.720878</td>\n",
              "      <td>130.636261</td>\n",
              "      <td>107.853247</td>\n",
              "      <td>120.214763</td>\n",
              "    </tr>\n",
              "    <tr>\n",
              "      <th>1</th>\n",
              "      <td>142.238783</td>\n",
              "      <td>77.622465</td>\n",
              "      <td>124.655831</td>\n",
              "      <td>139.759181</td>\n",
              "      <td>87.813684</td>\n",
              "      <td>119.485648</td>\n",
              "      <td>132.121765</td>\n",
              "      <td>87.675314</td>\n",
              "      <td>109.543541</td>\n",
              "    </tr>\n",
              "    <tr>\n",
              "      <th>2</th>\n",
              "      <td>194.634796</td>\n",
              "      <td>142.036333</td>\n",
              "      <td>165.186404</td>\n",
              "      <td>176.289379</td>\n",
              "      <td>142.394428</td>\n",
              "      <td>157.225398</td>\n",
              "      <td>164.107654</td>\n",
              "      <td>120.632834</td>\n",
              "      <td>136.823216</td>\n",
              "    </tr>\n",
              "    <tr>\n",
              "      <th>3</th>\n",
              "      <td>201.470078</td>\n",
              "      <td>145.181131</td>\n",
              "      <td>170.872224</td>\n",
              "      <td>183.384905</td>\n",
              "      <td>133.053609</td>\n",
              "      <td>153.074767</td>\n",
              "      <td>122.161875</td>\n",
              "      <td>73.877562</td>\n",
              "      <td>106.851499</td>\n",
              "    </tr>\n",
              "    <tr>\n",
              "      <th>4</th>\n",
              "      <td>219.453492</td>\n",
              "      <td>161.270011</td>\n",
              "      <td>190.535840</td>\n",
              "      <td>205.185858</td>\n",
              "      <td>162.372025</td>\n",
              "      <td>181.428620</td>\n",
              "      <td>188.587690</td>\n",
              "      <td>127.773375</td>\n",
              "      <td>155.576081</td>\n",
              "    </tr>\n",
              "    <tr>\n",
              "      <th>5</th>\n",
              "      <td>173.450742</td>\n",
              "      <td>17.017579</td>\n",
              "      <td>111.971411</td>\n",
              "      <td>134.929923</td>\n",
              "      <td>42.962100</td>\n",
              "      <td>99.933209</td>\n",
              "      <td>110.876547</td>\n",
              "      <td>28.262201</td>\n",
              "      <td>81.576108</td>\n",
              "    </tr>\n",
              "    <tr>\n",
              "      <th>6</th>\n",
              "      <td>153.678274</td>\n",
              "      <td>99.895026</td>\n",
              "      <td>138.586252</td>\n",
              "      <td>157.305924</td>\n",
              "      <td>118.997188</td>\n",
              "      <td>138.417662</td>\n",
              "      <td>171.568001</td>\n",
              "      <td>121.380216</td>\n",
              "      <td>135.532937</td>\n",
              "    </tr>\n",
              "    <tr>\n",
              "      <th>7</th>\n",
              "      <td>184.673066</td>\n",
              "      <td>129.361782</td>\n",
              "      <td>147.857621</td>\n",
              "      <td>146.281893</td>\n",
              "      <td>113.762493</td>\n",
              "      <td>130.352824</td>\n",
              "      <td>112.772993</td>\n",
              "      <td>57.628492</td>\n",
              "      <td>97.168323</td>\n",
              "    </tr>\n",
              "  </tbody>\n",
              "</table>\n",
              "</div>\n",
              "      <button class=\"colab-df-convert\" onclick=\"convertToInteractive('df-361b8a7e-d6b2-4643-8b5a-b60d1d39d5ae')\"\n",
              "              title=\"Convert this dataframe to an interactive table.\"\n",
              "              style=\"display:none;\">\n",
              "        \n",
              "  <svg xmlns=\"http://www.w3.org/2000/svg\" height=\"24px\"viewBox=\"0 0 24 24\"\n",
              "       width=\"24px\">\n",
              "    <path d=\"M0 0h24v24H0V0z\" fill=\"none\"/>\n",
              "    <path d=\"M18.56 5.44l.94 2.06.94-2.06 2.06-.94-2.06-.94-.94-2.06-.94 2.06-2.06.94zm-11 1L8.5 8.5l.94-2.06 2.06-.94-2.06-.94L8.5 2.5l-.94 2.06-2.06.94zm10 10l.94 2.06.94-2.06 2.06-.94-2.06-.94-.94-2.06-.94 2.06-2.06.94z\"/><path d=\"M17.41 7.96l-1.37-1.37c-.4-.4-.92-.59-1.43-.59-.52 0-1.04.2-1.43.59L10.3 9.45l-7.72 7.72c-.78.78-.78 2.05 0 2.83L4 21.41c.39.39.9.59 1.41.59.51 0 1.02-.2 1.41-.59l7.78-7.78 2.81-2.81c.8-.78.8-2.07 0-2.86zM5.41 20L4 18.59l7.72-7.72 1.47 1.35L5.41 20z\"/>\n",
              "  </svg>\n",
              "      </button>\n",
              "      \n",
              "  <style>\n",
              "    .colab-df-container {\n",
              "      display:flex;\n",
              "      flex-wrap:wrap;\n",
              "      gap: 12px;\n",
              "    }\n",
              "\n",
              "    .colab-df-convert {\n",
              "      background-color: #E8F0FE;\n",
              "      border: none;\n",
              "      border-radius: 50%;\n",
              "      cursor: pointer;\n",
              "      display: none;\n",
              "      fill: #1967D2;\n",
              "      height: 32px;\n",
              "      padding: 0 0 0 0;\n",
              "      width: 32px;\n",
              "    }\n",
              "\n",
              "    .colab-df-convert:hover {\n",
              "      background-color: #E2EBFA;\n",
              "      box-shadow: 0px 1px 2px rgba(60, 64, 67, 0.3), 0px 1px 3px 1px rgba(60, 64, 67, 0.15);\n",
              "      fill: #174EA6;\n",
              "    }\n",
              "\n",
              "    [theme=dark] .colab-df-convert {\n",
              "      background-color: #3B4455;\n",
              "      fill: #D2E3FC;\n",
              "    }\n",
              "\n",
              "    [theme=dark] .colab-df-convert:hover {\n",
              "      background-color: #434B5C;\n",
              "      box-shadow: 0px 1px 3px 1px rgba(0, 0, 0, 0.15);\n",
              "      filter: drop-shadow(0px 1px 2px rgba(0, 0, 0, 0.3));\n",
              "      fill: #FFFFFF;\n",
              "    }\n",
              "  </style>\n",
              "\n",
              "      <script>\n",
              "        const buttonEl =\n",
              "          document.querySelector('#df-361b8a7e-d6b2-4643-8b5a-b60d1d39d5ae button.colab-df-convert');\n",
              "        buttonEl.style.display =\n",
              "          google.colab.kernel.accessAllowed ? 'block' : 'none';\n",
              "\n",
              "        async function convertToInteractive(key) {\n",
              "          const element = document.querySelector('#df-361b8a7e-d6b2-4643-8b5a-b60d1d39d5ae');\n",
              "          const dataTable =\n",
              "            await google.colab.kernel.invokeFunction('convertToInteractive',\n",
              "                                                     [key], {});\n",
              "          if (!dataTable) return;\n",
              "\n",
              "          const docLinkHtml = 'Like what you see? Visit the ' +\n",
              "            '<a target=\"_blank\" href=https://colab.research.google.com/notebooks/data_table.ipynb>data table notebook</a>'\n",
              "            + ' to learn more about interactive tables.';\n",
              "          element.innerHTML = '';\n",
              "          dataTable['output_type'] = 'display_data';\n",
              "          await google.colab.output.renderOutput(dataTable, element);\n",
              "          const docLink = document.createElement('div');\n",
              "          docLink.innerHTML = docLinkHtml;\n",
              "          element.appendChild(docLink);\n",
              "        }\n",
              "      </script>\n",
              "    </div>\n",
              "  </div>\n",
              "  "
            ],
            "text/plain": [
              "               max_R       min_R       avg_R       max_G       min_G  \\\n",
              "Clusters                                                               \n",
              "0         167.562716  126.909355  150.711533  155.261859  127.620626   \n",
              "1         142.238783   77.622465  124.655831  139.759181   87.813684   \n",
              "2         194.634796  142.036333  165.186404  176.289379  142.394428   \n",
              "3         201.470078  145.181131  170.872224  183.384905  133.053609   \n",
              "4         219.453492  161.270011  190.535840  205.185858  162.372025   \n",
              "5         173.450742   17.017579  111.971411  134.929923   42.962100   \n",
              "6         153.678274   99.895026  138.586252  157.305924  118.997188   \n",
              "7         184.673066  129.361782  147.857621  146.281893  113.762493   \n",
              "\n",
              "               avg_G       max_B       min_B       avg_B  \n",
              "Clusters                                                  \n",
              "0         140.720878  130.636261  107.853247  120.214763  \n",
              "1         119.485648  132.121765   87.675314  109.543541  \n",
              "2         157.225398  164.107654  120.632834  136.823216  \n",
              "3         153.074767  122.161875   73.877562  106.851499  \n",
              "4         181.428620  188.587690  127.773375  155.576081  \n",
              "5          99.933209  110.876547   28.262201   81.576108  \n",
              "6         138.417662  171.568001  121.380216  135.532937  \n",
              "7         130.352824  112.772993   57.628492   97.168323  "
            ]
          },
          "execution_count": 30,
          "metadata": {},
          "output_type": "execute_result"
        }
      ],
      "source": [
        "df_stats = df_sort.groupby('Clusters').agg(\n",
        "    max_R=('R', np.max),\n",
        "    min_R=('R', np.min),\n",
        "    avg_R=('R', np.mean),\n",
        "    max_G=('G', np.max),\n",
        "    min_G=('G', np.min),\n",
        "    avg_G=('G', np.mean),\n",
        "    max_B=('B', np.max),\n",
        "    min_B=('B', np.min),\n",
        "    avg_B=('B', np.mean)\n",
        ")\n",
        "\n",
        "df_stats"
      ]
    },
    {
      "cell_type": "code",
      "execution_count": null,
      "metadata": {
        "id": "_Rm5-Iu97S_2"
      },
      "outputs": [],
      "source": [
        "df_original = df_original.reset_index()\n",
        "df_original.head()\n",
        "df_original.to_csv('path/to/folder/df_whites_cluster.csv', index=False)"
      ]
    },
    {
      "cell_type": "code",
      "execution_count": null,
      "metadata": {
        "colab": {
          "base_uri": "https://localhost:8080/",
          "height": 332
        },
        "id": "Q2Kv_gjVAW-7",
        "outputId": "7b454cae-c925-496e-d553-a2cf3055b97a"
      },
      "outputs": [
        {
          "data": {
            "text/html": [
              "\n",
              "  <div id=\"df-36b3a60b-8090-44b7-8074-a9d1b32e0040\">\n",
              "    <div class=\"colab-df-container\">\n",
              "      <div>\n",
              "<style scoped>\n",
              "    .dataframe tbody tr th:only-of-type {\n",
              "        vertical-align: middle;\n",
              "    }\n",
              "\n",
              "    .dataframe tbody tr th {\n",
              "        vertical-align: top;\n",
              "    }\n",
              "\n",
              "    .dataframe thead th {\n",
              "        text-align: right;\n",
              "    }\n",
              "</style>\n",
              "<table border=\"1\" class=\"dataframe\">\n",
              "  <thead>\n",
              "    <tr style=\"text-align: right;\">\n",
              "      <th></th>\n",
              "      <th>Name</th>\n",
              "      <th>R</th>\n",
              "      <th>G</th>\n",
              "      <th>B</th>\n",
              "    </tr>\n",
              "    <tr>\n",
              "      <th>Clusters</th>\n",
              "      <th></th>\n",
              "      <th></th>\n",
              "      <th></th>\n",
              "      <th></th>\n",
              "    </tr>\n",
              "  </thead>\n",
              "  <tbody>\n",
              "    <tr>\n",
              "      <th>0</th>\n",
              "      <td>233</td>\n",
              "      <td>233</td>\n",
              "      <td>233</td>\n",
              "      <td>233</td>\n",
              "    </tr>\n",
              "    <tr>\n",
              "      <th>1</th>\n",
              "      <td>186</td>\n",
              "      <td>186</td>\n",
              "      <td>186</td>\n",
              "      <td>186</td>\n",
              "    </tr>\n",
              "    <tr>\n",
              "      <th>2</th>\n",
              "      <td>196</td>\n",
              "      <td>196</td>\n",
              "      <td>196</td>\n",
              "      <td>196</td>\n",
              "    </tr>\n",
              "    <tr>\n",
              "      <th>3</th>\n",
              "      <td>148</td>\n",
              "      <td>148</td>\n",
              "      <td>148</td>\n",
              "      <td>148</td>\n",
              "    </tr>\n",
              "    <tr>\n",
              "      <th>4</th>\n",
              "      <td>83</td>\n",
              "      <td>83</td>\n",
              "      <td>83</td>\n",
              "      <td>83</td>\n",
              "    </tr>\n",
              "    <tr>\n",
              "      <th>5</th>\n",
              "      <td>150</td>\n",
              "      <td>150</td>\n",
              "      <td>150</td>\n",
              "      <td>150</td>\n",
              "    </tr>\n",
              "    <tr>\n",
              "      <th>6</th>\n",
              "      <td>167</td>\n",
              "      <td>167</td>\n",
              "      <td>167</td>\n",
              "      <td>167</td>\n",
              "    </tr>\n",
              "    <tr>\n",
              "      <th>7</th>\n",
              "      <td>193</td>\n",
              "      <td>193</td>\n",
              "      <td>193</td>\n",
              "      <td>193</td>\n",
              "    </tr>\n",
              "  </tbody>\n",
              "</table>\n",
              "</div>\n",
              "      <button class=\"colab-df-convert\" onclick=\"convertToInteractive('df-36b3a60b-8090-44b7-8074-a9d1b32e0040')\"\n",
              "              title=\"Convert this dataframe to an interactive table.\"\n",
              "              style=\"display:none;\">\n",
              "        \n",
              "  <svg xmlns=\"http://www.w3.org/2000/svg\" height=\"24px\"viewBox=\"0 0 24 24\"\n",
              "       width=\"24px\">\n",
              "    <path d=\"M0 0h24v24H0V0z\" fill=\"none\"/>\n",
              "    <path d=\"M18.56 5.44l.94 2.06.94-2.06 2.06-.94-2.06-.94-.94-2.06-.94 2.06-2.06.94zm-11 1L8.5 8.5l.94-2.06 2.06-.94-2.06-.94L8.5 2.5l-.94 2.06-2.06.94zm10 10l.94 2.06.94-2.06 2.06-.94-2.06-.94-.94-2.06-.94 2.06-2.06.94z\"/><path d=\"M17.41 7.96l-1.37-1.37c-.4-.4-.92-.59-1.43-.59-.52 0-1.04.2-1.43.59L10.3 9.45l-7.72 7.72c-.78.78-.78 2.05 0 2.83L4 21.41c.39.39.9.59 1.41.59.51 0 1.02-.2 1.41-.59l7.78-7.78 2.81-2.81c.8-.78.8-2.07 0-2.86zM5.41 20L4 18.59l7.72-7.72 1.47 1.35L5.41 20z\"/>\n",
              "  </svg>\n",
              "      </button>\n",
              "      \n",
              "  <style>\n",
              "    .colab-df-container {\n",
              "      display:flex;\n",
              "      flex-wrap:wrap;\n",
              "      gap: 12px;\n",
              "    }\n",
              "\n",
              "    .colab-df-convert {\n",
              "      background-color: #E8F0FE;\n",
              "      border: none;\n",
              "      border-radius: 50%;\n",
              "      cursor: pointer;\n",
              "      display: none;\n",
              "      fill: #1967D2;\n",
              "      height: 32px;\n",
              "      padding: 0 0 0 0;\n",
              "      width: 32px;\n",
              "    }\n",
              "\n",
              "    .colab-df-convert:hover {\n",
              "      background-color: #E2EBFA;\n",
              "      box-shadow: 0px 1px 2px rgba(60, 64, 67, 0.3), 0px 1px 3px 1px rgba(60, 64, 67, 0.15);\n",
              "      fill: #174EA6;\n",
              "    }\n",
              "\n",
              "    [theme=dark] .colab-df-convert {\n",
              "      background-color: #3B4455;\n",
              "      fill: #D2E3FC;\n",
              "    }\n",
              "\n",
              "    [theme=dark] .colab-df-convert:hover {\n",
              "      background-color: #434B5C;\n",
              "      box-shadow: 0px 1px 3px 1px rgba(0, 0, 0, 0.15);\n",
              "      filter: drop-shadow(0px 1px 2px rgba(0, 0, 0, 0.3));\n",
              "      fill: #FFFFFF;\n",
              "    }\n",
              "  </style>\n",
              "\n",
              "      <script>\n",
              "        const buttonEl =\n",
              "          document.querySelector('#df-36b3a60b-8090-44b7-8074-a9d1b32e0040 button.colab-df-convert');\n",
              "        buttonEl.style.display =\n",
              "          google.colab.kernel.accessAllowed ? 'block' : 'none';\n",
              "\n",
              "        async function convertToInteractive(key) {\n",
              "          const element = document.querySelector('#df-36b3a60b-8090-44b7-8074-a9d1b32e0040');\n",
              "          const dataTable =\n",
              "            await google.colab.kernel.invokeFunction('convertToInteractive',\n",
              "                                                     [key], {});\n",
              "          if (!dataTable) return;\n",
              "\n",
              "          const docLinkHtml = 'Like what you see? Visit the ' +\n",
              "            '<a target=\"_blank\" href=https://colab.research.google.com/notebooks/data_table.ipynb>data table notebook</a>'\n",
              "            + ' to learn more about interactive tables.';\n",
              "          element.innerHTML = '';\n",
              "          dataTable['output_type'] = 'display_data';\n",
              "          await google.colab.output.renderOutput(dataTable, element);\n",
              "          const docLink = document.createElement('div');\n",
              "          docLink.innerHTML = docLinkHtml;\n",
              "          element.appendChild(docLink);\n",
              "        }\n",
              "      </script>\n",
              "    </div>\n",
              "  </div>\n",
              "  "
            ],
            "text/plain": [
              "          Name    R    G    B\n",
              "Clusters                     \n",
              "0          233  233  233  233\n",
              "1          186  186  186  186\n",
              "2          196  196  196  196\n",
              "3          148  148  148  148\n",
              "4           83   83   83   83\n",
              "5          150  150  150  150\n",
              "6          167  167  167  167\n",
              "7          193  193  193  193"
            ]
          },
          "execution_count": 32,
          "metadata": {},
          "output_type": "execute_result"
        }
      ],
      "source": [
        "df_original.groupby('Clusters').count()"
      ]
    },
    {
      "cell_type": "code",
      "execution_count": null,
      "metadata": {
        "colab": {
          "base_uri": "https://localhost:8080/"
        },
        "id": "3PrHYMS3CYtN",
        "outputId": "7f5fce7e-5d83-4238-88bd-4cb059dc8ced"
      },
      "outputs": [
        {
          "data": {
            "text/plain": [
              "array([\"'Askos' Verdeca 2021'.png\", \"003 Pecorino 2019'.png\",\n",
              "       \"010 Lugana 2020'.png\",\n",
              "       \"12 e Mezzo Malvasia del Salento 2020'.png\",\n",
              "       \"40 Quarantanni Riserva Bianco 2018'.png\",\n",
              "       \"448 s.l.m. Bianco 2020'.png\", \"496 Bio 2019'.png\",\n",
              "       \"90+10 Il Rivale 2019'.png\", \"A Demûa Bianco 2016'.png\",\n",
              "       \"A'Puddara Etna Bianco 2019'.png\"], dtype=object)"
            ]
          },
          "execution_count": 33,
          "metadata": {},
          "output_type": "execute_result"
        }
      ],
      "source": [
        "filenames_full = df_original['Name'].unique()\n",
        "filenames_full[:10]"
      ]
    },
    {
      "cell_type": "code",
      "execution_count": null,
      "metadata": {
        "colab": {
          "base_uri": "https://localhost:8080/"
        },
        "id": "VM3wHl8d7M6k",
        "outputId": "9ef2d1f6-46eb-47ed-d37f-110581a5d4a6"
      },
      "outputs": [
        {
          "data": {
            "text/plain": [
              "array([3, 2, 6, 4, 6, 0, 6, 0, 2, 1])"
            ]
          },
          "execution_count": 34,
          "metadata": {},
          "output_type": "execute_result"
        }
      ],
      "source": [
        "kmedoids.labels_[:10]"
      ]
    },
    {
      "cell_type": "code",
      "execution_count": null,
      "metadata": {
        "id": "OC_DOAyQCYw7"
      },
      "outputs": [],
      "source": [
        "# holds the cluster id and the images { id: [images] }\n",
        "groups = {}\n",
        "for file, cluster in zip(filenames_full,kmedoids.labels_):\n",
        "    if cluster not in groups.keys():\n",
        "        groups[cluster] = []\n",
        "        groups[cluster].append(file)\n",
        "    else:\n",
        "        groups[cluster].append(file)"
      ]
    },
    {
      "cell_type": "code",
      "execution_count": null,
      "metadata": {
        "id": "274jTeYbCY3V"
      },
      "outputs": [],
      "source": [
        "from skimage import io\n",
        "\n",
        "# function that lets you view a cluster (based on identifier)        \n",
        "def view_cluster(cluster):\n",
        "    plt.figure(figsize = (25,25));\n",
        "    # gets the list of filenames for a cluster\n",
        "    files = groups[cluster]\n",
        "    # only allow up to n images to be shown at a time\n",
        "    if len(files) > 11:\n",
        "        print(f\"Clipping cluster size from {len(files)} to 10\")\n",
        "        files = files[:10]\n",
        "    # plot each image in the cluster\n",
        "    for index, file in enumerate(files):\n",
        "        plt.subplot(10,10,index+1);\n",
        "        img = io.imread(file)\n",
        "        plt.imshow(img)\n",
        "        plt.axis('off')"
      ]
    },
    {
      "cell_type": "code",
      "execution_count": null,
      "metadata": {
        "colab": {
          "base_uri": "https://localhost:8080/",
          "height": 164
        },
        "id": "Jxyn_ycZCY6f",
        "outputId": "1a4779db-ea52-4c6f-db2f-df2a9233124c"
      },
      "outputs": [
        {
          "name": "stdout",
          "output_type": "stream",
          "text": [
            "Clipping cluster size from 233 to 10\n"
          ]
        },
        {
          "data": {
            "image/png": "[encoded data removed]",
            "text/plain": [
              "<Figure size 1800x1800 with 10 Axes>"
            ]
          },
          "metadata": {},
          "output_type": "display_data"
        }
      ],
      "source": [
        "view_cluster(0)"
      ]
    },
    {
      "cell_type": "code",
      "execution_count": null,
      "metadata": {
        "colab": {
          "base_uri": "https://localhost:8080/"
        },
        "id": "EsnmiypdCY-R",
        "outputId": "08b1f8ed-76f7-4dca-8747-c800ea457e85"
      },
      "outputs": [
        {
          "data": {
            "text/plain": [
              "array([[0.66158845, 0.60166407, 0.5743144 ],\n",
              "       [0.5289993 , 0.47407569, 0.5054307 ],\n",
              "       [0.73356206, 0.69526635, 0.66945681],\n",
              "       [0.75520222, 0.66239021, 0.49720542],\n",
              "       [0.86175402, 0.8496789 , 0.79465116],\n",
              "       [0.47874327, 0.36278484, 0.35483405],\n",
              "       [0.60682629, 0.59218693, 0.6590013 ],\n",
              "       [0.63610406, 0.54354765, 0.45242905]])"
            ]
          },
          "execution_count": 39,
          "metadata": {},
          "output_type": "execute_result"
        }
      ],
      "source": [
        "kmedoids.cluster_centers_"
      ]
    },
    {
      "cell_type": "code",
      "execution_count": null,
      "metadata": {
        "colab": {
          "base_uri": "https://localhost:8080/"
        },
        "id": "i-Emt_lJCZRq",
        "outputId": "72bae5a9-c61d-463b-da87-81750aa2e6a9"
      },
      "outputs": [
        {
          "data": {
            "text/plain": [
              "array([ 550,  842,  128,  330, 1330,  656, 1169,  522])"
            ]
          },
          "execution_count": 40,
          "metadata": {},
          "output_type": "execute_result"
        }
      ],
      "source": [
        "kmedoids.medoid_indices_"
      ]
    },
    {
      "cell_type": "markdown",
      "metadata": {
        "id": "xwId2-sHPWZ4"
      },
      "source": [
        "### Medoids wines"
      ]
    },
    {
      "cell_type": "code",
      "execution_count": null,
      "metadata": {
        "colab": {
          "base_uri": "https://localhost:8080/"
        },
        "id": "9nhxOHOJF6tU",
        "outputId": "fe2a9c7f-c276-4da1-bc10-336c6ed9a5ba"
      },
      "outputs": [
        {
          "name": "stdout",
          "output_type": "stream",
          "text": [
            "Name        Insolia 2020'.png\n",
            "Clusters                    0\n",
            "Name: 550, dtype: object\n",
            "-------------------------------------------------------------------------------------\n",
            "Name        Passolento Castelli di Jesi 2018'.png\n",
            "Clusters                                        1\n",
            "Name: 842, dtype: object\n",
            "-------------------------------------------------------------------------------------\n",
            "Name        Bine Longhe di Costalta 2018'.png\n",
            "Clusters                                    2\n",
            "Name: 128, dtype: object\n",
            "-------------------------------------------------------------------------------------\n",
            "Name        Drago Bianco 2016'.png\n",
            "Clusters                         3\n",
            "Name: 330, dtype: object\n",
            "-------------------------------------------------------------------------------------\n",
            "Name        Vivia Maremma Toscana 2020'.png\n",
            "Clusters                                  4\n",
            "Name: 1330, dtype: object\n",
            "-------------------------------------------------------------------------------------\n",
            "Name        Lidia Chardonnay 2018'.png\n",
            "Clusters                             5\n",
            "Name: 656, dtype: object\n",
            "-------------------------------------------------------------------------------------\n",
            "Name        Télos Il Bianco Garganega - Chardonnay 2020'.png\n",
            "Clusters                                                    6\n",
            "Name: 1169, dtype: object\n",
            "-------------------------------------------------------------------------------------\n",
            "Name        Harrer Riesling 2018'.png\n",
            "Clusters                            7\n",
            "Name: 522, dtype: object\n",
            "-------------------------------------------------------------------------------------\n"
          ]
        }
      ],
      "source": [
        "for i in kmedoids.medoid_indices_:\n",
        "  pd.set_option('display.max_colwidth', None) # don't cut too long names\n",
        "  print(df_original[['Name', 'Clusters']].iloc[i])\n",
        "  print('-'*85)"
      ]
    }
  ],
  "metadata": {
    "colab": {
      "collapsed_sections": [],
      "provenance": []
    },
    "kernelspec": {
      "display_name": "Python 3",
      "name": "python3"
    },
    "language_info": {
      "name": "python"
    }
  },
  "nbformat": 4,
  "nbformat_minor": 0
}
