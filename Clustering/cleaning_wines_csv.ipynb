{
 "cells": [
  {
   "cell_type": "code",
   "execution_count": 1,
   "id": "9aca689b-2186-40fb-b17f-b5a3c4011ea5",
   "metadata": {},
   "outputs": [],
   "source": [
    "# Import necessary libraries\n",
    "\n",
    "import pandas as pd\n",
    "import re"
   ]
  },
  {
   "cell_type": "code",
   "execution_count": 3,
   "id": "8bbb3ff9-05b7-4ddf-9eca-a551a4bfe5b4",
   "metadata": {},
   "outputs": [],
   "source": [
    "# Set the name of the file to read and read it into a DataFrame\n",
    "\n",
    "file_name = 'red_wines'\n",
    "\n",
    "df = pd.read_csv(file_name +'.csv', encoding='ansi', sep=';', header=None, names=['company', 'name', 'avg_review', 'num_review', 'breads', 'price', 'level_structure', 'food_advice', 'n_m'])"
   ]
  },
  {
   "cell_type": "code",
   "execution_count": 4,
   "id": "dc8098de-d3e8-4555-b4e6-557d4e0874ae",
   "metadata": {},
   "outputs": [
    {
     "data": {
      "text/html": [
       "<div>\n",
       "<style scoped>\n",
       "    .dataframe tbody tr th:only-of-type {\n",
       "        vertical-align: middle;\n",
       "    }\n",
       "\n",
       "    .dataframe tbody tr th {\n",
       "        vertical-align: top;\n",
       "    }\n",
       "\n",
       "    .dataframe thead th {\n",
       "        text-align: right;\n",
       "    }\n",
       "</style>\n",
       "<table border=\"1\" class=\"dataframe\">\n",
       "  <thead>\n",
       "    <tr style=\"text-align: right;\">\n",
       "      <th></th>\n",
       "      <th>company</th>\n",
       "      <th>name</th>\n",
       "      <th>avg_review</th>\n",
       "      <th>num_review</th>\n",
       "      <th>breads</th>\n",
       "      <th>price</th>\n",
       "      <th>level_structure</th>\n",
       "      <th>food_advice</th>\n",
       "      <th>n_m</th>\n",
       "    </tr>\n",
       "  </thead>\n",
       "  <tbody>\n",
       "    <tr>\n",
       "      <th>0</th>\n",
       "      <td>Podernuovo a Palazzone</td>\n",
       "      <td>Sotirio 2011</td>\n",
       "      <td>4,3</td>\n",
       "      <td>75 Voti</td>\n",
       "      <td>Italia·Toscana·Podernuovo a Palazzone·Vino ros...</td>\n",
       "      <td>32,90</td>\n",
       "      <td>[('Leggero-Strutturato', '56.456%'), ('Morbido...</td>\n",
       "      <td>Manzo / Agnello / Vitello</td>\n",
       "      <td>[('legno', 20), ('Erbaceo', 14), ('bacche nere...</td>\n",
       "    </tr>\n",
       "    <tr>\n",
       "      <th>1</th>\n",
       "      <td>Gaja</td>\n",
       "      <td>Pieve Santa Restituta Sugarille Brunello di Mo...</td>\n",
       "      <td>4,3</td>\n",
       "      <td>27 Voti</td>\n",
       "      <td>Italia·Brunello di Montalcino·Gaja·Vino rosso·...</td>\n",
       "      <td>179,00</td>\n",
       "      <td>[('Leggero-Strutturato', '52.7566%'), ('Morbid...</td>\n",
       "      <td>Manzo / Agnello / Cacciagione (cervo, camoscio)</td>\n",
       "      <td>[('legno', 185), ('Erbaceo', 183), ('frutti ro...</td>\n",
       "    </tr>\n",
       "    <tr>\n",
       "      <th>2</th>\n",
       "      <td>Le Macchiole</td>\n",
       "      <td>Paleo 2017</td>\n",
       "      <td>4,5</td>\n",
       "      <td>301 Voti</td>\n",
       "      <td>Italia·Toscana·Le Macchiole·Vino rosso·Caberne...</td>\n",
       "      <td>109,00</td>\n",
       "      <td>[('Leggero-Strutturato', '58.253%'), ('Morbido...</td>\n",
       "      <td>Manzo / Agnello / Vitello</td>\n",
       "      <td>[('legno', 650), ('bacche nere', 471), ('Erbac...</td>\n",
       "    </tr>\n",
       "    <tr>\n",
       "      <th>3</th>\n",
       "      <td>Tenuta San Guido</td>\n",
       "      <td>Sassicaia 2000</td>\n",
       "      <td>4,6</td>\n",
       "      <td>2174 Voti</td>\n",
       "      <td>Italia·Bolgheri Sassicaia·Tenuta San Guido·Vin...</td>\n",
       "      <td>569,25</td>\n",
       "      <td>[('Leggero-Strutturato', '62.0472%'), ('Morbid...</td>\n",
       "      <td>Manzo / Pasta / Agnello</td>\n",
       "      <td>[('legno', 3368), ('bacche nere', 3033), ('Erb...</td>\n",
       "    </tr>\n",
       "    <tr>\n",
       "      <th>4</th>\n",
       "      <td>Elio Altare</td>\n",
       "      <td>Cerretta Barolo Riserva (Vigna Bricco) 2013</td>\n",
       "      <td>4,4</td>\n",
       "      <td>153 Voti</td>\n",
       "      <td>Italia·Barolo·Elio Altare·Vino rosso·Nebbiolo</td>\n",
       "      <td>161,00</td>\n",
       "      <td>[('Leggero-Strutturato', '63.0586%'), ('Morbid...</td>\n",
       "      <td>Manzo / Pasta / Agnello</td>\n",
       "      <td>[('Erbaceo', 118), ('legno', 111), ('frutti ro...</td>\n",
       "    </tr>\n",
       "  </tbody>\n",
       "</table>\n",
       "</div>"
      ],
      "text/plain": [
       "                  company                                               name  \\\n",
       "0  Podernuovo a Palazzone                                       Sotirio 2011   \n",
       "1                    Gaja  Pieve Santa Restituta Sugarille Brunello di Mo...   \n",
       "2            Le Macchiole                                         Paleo 2017   \n",
       "3        Tenuta San Guido                                     Sassicaia 2000   \n",
       "4             Elio Altare        Cerretta Barolo Riserva (Vigna Bricco) 2013   \n",
       "\n",
       "  avg_review num_review                                             breads  \\\n",
       "0        4,3    75 Voti  Italia·Toscana·Podernuovo a Palazzone·Vino ros...   \n",
       "1        4,3    27 Voti  Italia·Brunello di Montalcino·Gaja·Vino rosso·...   \n",
       "2        4,5   301 Voti  Italia·Toscana·Le Macchiole·Vino rosso·Caberne...   \n",
       "3        4,6  2174 Voti  Italia·Bolgheri Sassicaia·Tenuta San Guido·Vin...   \n",
       "4        4,4   153 Voti      Italia·Barolo·Elio Altare·Vino rosso·Nebbiolo   \n",
       "\n",
       "    price                                    level_structure  \\\n",
       "0   32,90  [('Leggero-Strutturato', '56.456%'), ('Morbido...   \n",
       "1  179,00  [('Leggero-Strutturato', '52.7566%'), ('Morbid...   \n",
       "2  109,00  [('Leggero-Strutturato', '58.253%'), ('Morbido...   \n",
       "3  569,25  [('Leggero-Strutturato', '62.0472%'), ('Morbid...   \n",
       "4  161,00  [('Leggero-Strutturato', '63.0586%'), ('Morbid...   \n",
       "\n",
       "                                       food_advice  \\\n",
       "0                        Manzo / Agnello / Vitello   \n",
       "1  Manzo / Agnello / Cacciagione (cervo, camoscio)   \n",
       "2                        Manzo / Agnello / Vitello   \n",
       "3                          Manzo / Pasta / Agnello   \n",
       "4                          Manzo / Pasta / Agnello   \n",
       "\n",
       "                                                 n_m  \n",
       "0  [('legno', 20), ('Erbaceo', 14), ('bacche nere...  \n",
       "1  [('legno', 185), ('Erbaceo', 183), ('frutti ro...  \n",
       "2  [('legno', 650), ('bacche nere', 471), ('Erbac...  \n",
       "3  [('legno', 3368), ('bacche nere', 3033), ('Erb...  \n",
       "4  [('Erbaceo', 118), ('legno', 111), ('frutti ro...  "
      ]
     },
     "execution_count": 4,
     "metadata": {},
     "output_type": "execute_result"
    }
   ],
   "source": [
    "df.head()"
   ]
  },
  {
   "cell_type": "code",
   "execution_count": 5,
   "id": "3dc45ff4-c562-40a6-a2be-4a9882ff45c3",
   "metadata": {},
   "outputs": [],
   "source": [
    "# Remove rows where avg_review is 'na'\n",
    "df = df[df.avg_review!='na']\n",
    "\n",
    "# Convert avg_review to float, replacing commas with dots\n",
    "df[['avg_review']] = df[['avg_review']].replace(value='.', regex=',').astype(float)\n",
    "\n",
    "# Convert num_review to int, removing the string 'Voti'\n",
    "df['num_review'] = df['num_review'].apply(lambda x : int(x.split()[0]))\n",
    "\n"
   ]
  },
  {
   "cell_type": "code",
   "execution_count": 6,
   "id": "70b26c1c-a0ad-42a6-892a-5ee40bc7ec37",
   "metadata": {},
   "outputs": [],
   "source": [
    "# Convert price to float, removing the euro symbol and replacing commas with dots\n",
    "df = df[df.price!='na']\n",
    "df[['price']] = df[['price']].replace(value='.', regex=',').replace(value='', regex='€').astype(float)"
   ]
  },
  {
   "cell_type": "code",
   "execution_count": 7,
   "id": "702c77ec-55f2-4dd3-a108-5801ac8c1853",
   "metadata": {},
   "outputs": [],
   "source": [
    "# Split the 'breads' column into separate columns\n",
    "df['country'] = df['breads'].apply(lambda x : x.split('·')[0])\n",
    "df['region'] = df['breads'].apply(lambda x : x.split('·')[1])\n",
    "df['wine_type'] = df['breads'].apply(lambda x : x.split('·')[-1])\n"
   ]
  },
  {
   "cell_type": "code",
   "execution_count": 9,
   "id": "ad6fd648-275a-4b60-8080-eb98c06546e4",
   "metadata": {},
   "outputs": [],
   "source": [
    "# Split 'name' into 'name' and 'year' for red wines\n",
    "\n",
    "def clean_year(x):\n",
    "    if x.split()[-1].isdigit():\n",
    "        x = int(x.split()[-1])\n",
    "    else:\n",
    "        x = 'na'\n",
    "    return x\n",
    "\n",
    "def clean_name(x):\n",
    "    if x.split()[-1].isdigit():\n",
    "        x = x.replace(x.split()[-1], '')\n",
    "    else:\n",
    "        x = x\n",
    "    return x\n",
    "\n",
    "df['year'] = df['name'].apply(clean_year)\n",
    "df['name'] = df['name'].apply(clean_name)"
   ]
  },
  {
   "cell_type": "code",
   "execution_count": null,
   "id": "f60e37af",
   "metadata": {},
   "outputs": [],
   "source": [
    "# Split 'name' into 'name' and 'year' for white wines\n",
    "\n",
    "def clean_year(x):\n",
    "    if x.split()[-1] in ('N.V.', 'Blanc'):\n",
    "        return None\n",
    "    else:\n",
    "        return str(x.split()[-1])\n",
    "\n",
    "df['year'] = df['name'].apply(clean_year)\n",
    "df['name'] = df['name'].apply(lambda x : ' '.join(x.split()[:-1]))"
   ]
  },
  {
   "cell_type": "code",
   "execution_count": 10,
   "id": "bbe3fe97-0fc3-4320-84e5-d5234fd271c0",
   "metadata": {},
   "outputs": [],
   "source": [
    "# Create a new column for each element of 'level_structure'\n",
    "\n",
    "df['legg_strutt'] = df['level_structure'].apply(lambda x : None if x=='[]' else float(re.sub('[\\'%),px]', '', x.split()[1])))\n",
    "df['secco_dolce'] = df['level_structure'].apply(lambda x : None if x=='[]' else float(re.sub('[\\'%),px]', '', x.split()[3])))\n",
    "df['piatto_acid'] = df['level_structure'].apply(lambda x : None if x=='[]' else float(re.sub('[\\'%),px\\]]', '', x.split()[5])))\n"
   ]
  },
  {
   "cell_type": "code",
   "execution_count": 11,
   "id": "b1b12a99-4520-47be-97c8-dae664cc2dc3",
   "metadata": {},
   "outputs": [],
   "source": [
    "# Create a new column for the cleaned notes\n",
    "\n",
    "def clean_notes(x):\n",
    "    if x == '[]':\n",
    "        return None\n",
    "    else:\n",
    "        notes = []\n",
    "        for element in x.split('),'):\n",
    "            notes.append(re.sub('[\\[\\'(,]', '', element.split()[0]))\n",
    "        return '/'.join(notes)\n",
    "\n",
    "df['notes'] = df['n_m'].apply(clean_notes)   \n"
   ]
  },
  {
   "cell_type": "code",
   "execution_count": 12,
   "id": "a24c34d6-f814-4830-b828-29e3565e7a27",
   "metadata": {},
   "outputs": [],
   "source": [
    "# Create a new column for the cleaned notes\n",
    "\n",
    "def clean_notes(x):\n",
    "    if x == '[]':\n",
    "        return None\n",
    "    else:\n",
    "        notes = []\n",
    "        for element in x.split('),'):\n",
    "            \n",
    "            notes.append(element.split('\\'')[1])\n",
    "        return '/'.join(notes)\n",
    "\n",
    "df['notes'] = df['n_m'].apply(clean_notes)   \n"
   ]
  },
  {
   "cell_type": "code",
   "execution_count": 14,
   "id": "0a9e98a8-c81e-451d-80a7-4adfab6364e5",
   "metadata": {},
   "outputs": [],
   "source": [
    "# Drop unnecessary columns\n",
    "\n",
    "df = df.drop(columns=['breads', 'level_structure', 'n_m'], axis=1)"
   ]
  },
  {
   "cell_type": "code",
   "execution_count": 16,
   "id": "d6b8e441-f99a-4f69-909b-7e56175d6199",
   "metadata": {},
   "outputs": [],
   "source": [
    "# Write the cleaned DataFrame to a new CSV file\n",
    "\n",
    "df.to_csv(file_name+'_clean.csv', sep=';', encoding='ansi', index=False)"
   ]
  }
 ],
 "metadata": {
  "kernelspec": {
   "display_name": "Python 3.8.8 ('base')",
   "language": "python",
   "name": "python3"
  },
  "language_info": {
   "codemirror_mode": {
    "name": "ipython",
    "version": 3
   },
   "file_extension": ".py",
   "mimetype": "text/x-python",
   "name": "python",
   "nbconvert_exporter": "python",
   "pygments_lexer": "ipython3",
   "version": "3.8.8"
  },
  "vscode": {
   "interpreter": {
    "hash": "bc53bb56ac0ef2e52d59b823b76d1d50ff0786d774650581b381c8d58af6d85d"
   }
  }
 },
 "nbformat": 4,
 "nbformat_minor": 5
}
